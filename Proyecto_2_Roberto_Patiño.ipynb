{
  "nbformat": 4,
  "nbformat_minor": 0,
  "metadata": {
    "colab": {
      "provenance": [],
      "collapsed_sections": [],
      "toc_visible": true,
      "authorship_tag": "ABX9TyPBHmjV7qUJ9lje0A5tgMIJ",
      "include_colab_link": true
    },
    "kernelspec": {
      "name": "python3",
      "display_name": "Python 3"
    },
    "language_info": {
      "name": "python"
    }
  },
  "cells": [
    {
      "cell_type": "markdown",
      "metadata": {
        "id": "view-in-github",
        "colab_type": "text"
      },
      "source": [
        "<a href=\"https://colab.research.google.com/github/RPatinoR/Data-Anaytics/blob/main/Proyecto_2_Roberto_Pati%C3%B1o.ipynb\" target=\"_parent\"><img src=\"https://colab.research.google.com/assets/colab-badge.svg\" alt=\"Open In Colab\"/></a>"
      ]
    },
    {
      "cell_type": "markdown",
      "source": [
        "# Ejercicio Nº1\n",
        "Fichero autos.csv\n",
        "\n",
        "Generar una función y utilizar esta para recodificar la variable “país\n",
        "de origen” (1, 2, 3) en el dataframe a través de la función apply.\n",
        "\n"
      ],
      "metadata": {
        "id": "J0aH6ewcSojW"
      }
    },
    {
      "cell_type": "code",
      "source": [
        "import pandas as pd\n",
        "import numpy as np\n",
        "\n",
        "import matplotlib.pyplot as plt  #visualization\n",
        "import seaborn as sb  #visualization\n",
        "\n",
        "url = \"https://raw.githubusercontent.com/RPatinoR/Data-Anaytics/main/autos%20-%20autos.csv\"\n",
        "df = pd.read_csv(url)\n",
        "\n",
        "df[\"Pais_Origen\"].unique()                          # Encuentra los valores unicos de la coulumna seleccionada\n",
        "\n",
        "Paises = df[\"Pais_Origen\"].tolist()                 # Define la lista de Pais_Origen\n",
        "\n",
        "df"
      ],
      "metadata": {
        "colab": {
          "base_uri": "https://localhost:8080/",
          "height": 424
        },
        "id": "z0RTd62FSgMi",
        "outputId": "acb5f95b-0fd4-4377-9930-4f398176cdec"
      },
      "execution_count": 14,
      "outputs": [
        {
          "output_type": "execute_result",
          "data": {
            "text/plain": [
              "     Millas_Por_Galon  Cilindros Pais_Origen  Peso_En_Libras  Desplazamiento  \\\n",
              "0                18.0          8         USA            3504           307.0   \n",
              "1                15.0          8         USA            3693           350.0   \n",
              "2                18.0          8         USA            3436           318.0   \n",
              "3                16.0          8         USA            3433           304.0   \n",
              "4                17.0          8         USA            3449           302.0   \n",
              "..                ...        ...         ...             ...             ...   \n",
              "401              27.0          4         USA            2790           140.0   \n",
              "402              44.0          4      Europe            2130            97.0   \n",
              "403              32.0          4         USA            2295           135.0   \n",
              "404              28.0          4         USA            2625           120.0   \n",
              "405              31.0          4         USA            2720           119.0   \n",
              "\n",
              "     Aceleracion                     Nombre        Anyo  Caballo_De_Fuerza  \n",
              "0           12.0  chevrolet chevelle malibu  01/01/1970              130.0  \n",
              "1           11.5          buick skylark 320  01/01/1970              165.0  \n",
              "2           11.0         plymouth satellite  01/01/1970              150.0  \n",
              "3           12.0              amc rebel sst  01/01/1970              150.0  \n",
              "4           10.5                ford torino  01/01/1970              140.0  \n",
              "..           ...                        ...         ...                ...  \n",
              "401         15.6            ford mustang gl  01/01/1982               86.0  \n",
              "402         24.6                  vw pickup  01/01/1982               52.0  \n",
              "403         11.6              dodge rampage  01/01/1982               84.0  \n",
              "404         18.6                ford ranger  01/01/1982               79.0  \n",
              "405         19.4                 chevy s-10  01/01/1982               82.0  \n",
              "\n",
              "[406 rows x 9 columns]"
            ],
            "text/html": [
              "\n",
              "  <div id=\"df-be6e8aad-754d-4682-b186-7776aaf7629d\">\n",
              "    <div class=\"colab-df-container\">\n",
              "      <div>\n",
              "<style scoped>\n",
              "    .dataframe tbody tr th:only-of-type {\n",
              "        vertical-align: middle;\n",
              "    }\n",
              "\n",
              "    .dataframe tbody tr th {\n",
              "        vertical-align: top;\n",
              "    }\n",
              "\n",
              "    .dataframe thead th {\n",
              "        text-align: right;\n",
              "    }\n",
              "</style>\n",
              "<table border=\"1\" class=\"dataframe\">\n",
              "  <thead>\n",
              "    <tr style=\"text-align: right;\">\n",
              "      <th></th>\n",
              "      <th>Millas_Por_Galon</th>\n",
              "      <th>Cilindros</th>\n",
              "      <th>Pais_Origen</th>\n",
              "      <th>Peso_En_Libras</th>\n",
              "      <th>Desplazamiento</th>\n",
              "      <th>Aceleracion</th>\n",
              "      <th>Nombre</th>\n",
              "      <th>Anyo</th>\n",
              "      <th>Caballo_De_Fuerza</th>\n",
              "    </tr>\n",
              "  </thead>\n",
              "  <tbody>\n",
              "    <tr>\n",
              "      <th>0</th>\n",
              "      <td>18.0</td>\n",
              "      <td>8</td>\n",
              "      <td>USA</td>\n",
              "      <td>3504</td>\n",
              "      <td>307.0</td>\n",
              "      <td>12.0</td>\n",
              "      <td>chevrolet chevelle malibu</td>\n",
              "      <td>01/01/1970</td>\n",
              "      <td>130.0</td>\n",
              "    </tr>\n",
              "    <tr>\n",
              "      <th>1</th>\n",
              "      <td>15.0</td>\n",
              "      <td>8</td>\n",
              "      <td>USA</td>\n",
              "      <td>3693</td>\n",
              "      <td>350.0</td>\n",
              "      <td>11.5</td>\n",
              "      <td>buick skylark 320</td>\n",
              "      <td>01/01/1970</td>\n",
              "      <td>165.0</td>\n",
              "    </tr>\n",
              "    <tr>\n",
              "      <th>2</th>\n",
              "      <td>18.0</td>\n",
              "      <td>8</td>\n",
              "      <td>USA</td>\n",
              "      <td>3436</td>\n",
              "      <td>318.0</td>\n",
              "      <td>11.0</td>\n",
              "      <td>plymouth satellite</td>\n",
              "      <td>01/01/1970</td>\n",
              "      <td>150.0</td>\n",
              "    </tr>\n",
              "    <tr>\n",
              "      <th>3</th>\n",
              "      <td>16.0</td>\n",
              "      <td>8</td>\n",
              "      <td>USA</td>\n",
              "      <td>3433</td>\n",
              "      <td>304.0</td>\n",
              "      <td>12.0</td>\n",
              "      <td>amc rebel sst</td>\n",
              "      <td>01/01/1970</td>\n",
              "      <td>150.0</td>\n",
              "    </tr>\n",
              "    <tr>\n",
              "      <th>4</th>\n",
              "      <td>17.0</td>\n",
              "      <td>8</td>\n",
              "      <td>USA</td>\n",
              "      <td>3449</td>\n",
              "      <td>302.0</td>\n",
              "      <td>10.5</td>\n",
              "      <td>ford torino</td>\n",
              "      <td>01/01/1970</td>\n",
              "      <td>140.0</td>\n",
              "    </tr>\n",
              "    <tr>\n",
              "      <th>...</th>\n",
              "      <td>...</td>\n",
              "      <td>...</td>\n",
              "      <td>...</td>\n",
              "      <td>...</td>\n",
              "      <td>...</td>\n",
              "      <td>...</td>\n",
              "      <td>...</td>\n",
              "      <td>...</td>\n",
              "      <td>...</td>\n",
              "    </tr>\n",
              "    <tr>\n",
              "      <th>401</th>\n",
              "      <td>27.0</td>\n",
              "      <td>4</td>\n",
              "      <td>USA</td>\n",
              "      <td>2790</td>\n",
              "      <td>140.0</td>\n",
              "      <td>15.6</td>\n",
              "      <td>ford mustang gl</td>\n",
              "      <td>01/01/1982</td>\n",
              "      <td>86.0</td>\n",
              "    </tr>\n",
              "    <tr>\n",
              "      <th>402</th>\n",
              "      <td>44.0</td>\n",
              "      <td>4</td>\n",
              "      <td>Europe</td>\n",
              "      <td>2130</td>\n",
              "      <td>97.0</td>\n",
              "      <td>24.6</td>\n",
              "      <td>vw pickup</td>\n",
              "      <td>01/01/1982</td>\n",
              "      <td>52.0</td>\n",
              "    </tr>\n",
              "    <tr>\n",
              "      <th>403</th>\n",
              "      <td>32.0</td>\n",
              "      <td>4</td>\n",
              "      <td>USA</td>\n",
              "      <td>2295</td>\n",
              "      <td>135.0</td>\n",
              "      <td>11.6</td>\n",
              "      <td>dodge rampage</td>\n",
              "      <td>01/01/1982</td>\n",
              "      <td>84.0</td>\n",
              "    </tr>\n",
              "    <tr>\n",
              "      <th>404</th>\n",
              "      <td>28.0</td>\n",
              "      <td>4</td>\n",
              "      <td>USA</td>\n",
              "      <td>2625</td>\n",
              "      <td>120.0</td>\n",
              "      <td>18.6</td>\n",
              "      <td>ford ranger</td>\n",
              "      <td>01/01/1982</td>\n",
              "      <td>79.0</td>\n",
              "    </tr>\n",
              "    <tr>\n",
              "      <th>405</th>\n",
              "      <td>31.0</td>\n",
              "      <td>4</td>\n",
              "      <td>USA</td>\n",
              "      <td>2720</td>\n",
              "      <td>119.0</td>\n",
              "      <td>19.4</td>\n",
              "      <td>chevy s-10</td>\n",
              "      <td>01/01/1982</td>\n",
              "      <td>82.0</td>\n",
              "    </tr>\n",
              "  </tbody>\n",
              "</table>\n",
              "<p>406 rows × 9 columns</p>\n",
              "</div>\n",
              "      <button class=\"colab-df-convert\" onclick=\"convertToInteractive('df-be6e8aad-754d-4682-b186-7776aaf7629d')\"\n",
              "              title=\"Convert this dataframe to an interactive table.\"\n",
              "              style=\"display:none;\">\n",
              "        \n",
              "  <svg xmlns=\"http://www.w3.org/2000/svg\" height=\"24px\"viewBox=\"0 0 24 24\"\n",
              "       width=\"24px\">\n",
              "    <path d=\"M0 0h24v24H0V0z\" fill=\"none\"/>\n",
              "    <path d=\"M18.56 5.44l.94 2.06.94-2.06 2.06-.94-2.06-.94-.94-2.06-.94 2.06-2.06.94zm-11 1L8.5 8.5l.94-2.06 2.06-.94-2.06-.94L8.5 2.5l-.94 2.06-2.06.94zm10 10l.94 2.06.94-2.06 2.06-.94-2.06-.94-.94-2.06-.94 2.06-2.06.94z\"/><path d=\"M17.41 7.96l-1.37-1.37c-.4-.4-.92-.59-1.43-.59-.52 0-1.04.2-1.43.59L10.3 9.45l-7.72 7.72c-.78.78-.78 2.05 0 2.83L4 21.41c.39.39.9.59 1.41.59.51 0 1.02-.2 1.41-.59l7.78-7.78 2.81-2.81c.8-.78.8-2.07 0-2.86zM5.41 20L4 18.59l7.72-7.72 1.47 1.35L5.41 20z\"/>\n",
              "  </svg>\n",
              "      </button>\n",
              "      \n",
              "  <style>\n",
              "    .colab-df-container {\n",
              "      display:flex;\n",
              "      flex-wrap:wrap;\n",
              "      gap: 12px;\n",
              "    }\n",
              "\n",
              "    .colab-df-convert {\n",
              "      background-color: #E8F0FE;\n",
              "      border: none;\n",
              "      border-radius: 50%;\n",
              "      cursor: pointer;\n",
              "      display: none;\n",
              "      fill: #1967D2;\n",
              "      height: 32px;\n",
              "      padding: 0 0 0 0;\n",
              "      width: 32px;\n",
              "    }\n",
              "\n",
              "    .colab-df-convert:hover {\n",
              "      background-color: #E2EBFA;\n",
              "      box-shadow: 0px 1px 2px rgba(60, 64, 67, 0.3), 0px 1px 3px 1px rgba(60, 64, 67, 0.15);\n",
              "      fill: #174EA6;\n",
              "    }\n",
              "\n",
              "    [theme=dark] .colab-df-convert {\n",
              "      background-color: #3B4455;\n",
              "      fill: #D2E3FC;\n",
              "    }\n",
              "\n",
              "    [theme=dark] .colab-df-convert:hover {\n",
              "      background-color: #434B5C;\n",
              "      box-shadow: 0px 1px 3px 1px rgba(0, 0, 0, 0.15);\n",
              "      filter: drop-shadow(0px 1px 2px rgba(0, 0, 0, 0.3));\n",
              "      fill: #FFFFFF;\n",
              "    }\n",
              "  </style>\n",
              "\n",
              "      <script>\n",
              "        const buttonEl =\n",
              "          document.querySelector('#df-be6e8aad-754d-4682-b186-7776aaf7629d button.colab-df-convert');\n",
              "        buttonEl.style.display =\n",
              "          google.colab.kernel.accessAllowed ? 'block' : 'none';\n",
              "\n",
              "        async function convertToInteractive(key) {\n",
              "          const element = document.querySelector('#df-be6e8aad-754d-4682-b186-7776aaf7629d');\n",
              "          const dataTable =\n",
              "            await google.colab.kernel.invokeFunction('convertToInteractive',\n",
              "                                                     [key], {});\n",
              "          if (!dataTable) return;\n",
              "\n",
              "          const docLinkHtml = 'Like what you see? Visit the ' +\n",
              "            '<a target=\"_blank\" href=https://colab.research.google.com/notebooks/data_table.ipynb>data table notebook</a>'\n",
              "            + ' to learn more about interactive tables.';\n",
              "          element.innerHTML = '';\n",
              "          dataTable['output_type'] = 'display_data';\n",
              "          await google.colab.output.renderOutput(dataTable, element);\n",
              "          const docLink = document.createElement('div');\n",
              "          docLink.innerHTML = docLinkHtml;\n",
              "          element.appendChild(docLink);\n",
              "        }\n",
              "      </script>\n",
              "    </div>\n",
              "  </div>\n",
              "  "
            ]
          },
          "metadata": {},
          "execution_count": 14
        }
      ]
    },
    {
      "cell_type": "code",
      "execution_count": null,
      "metadata": {
        "id": "XZBKXXWSR9rp"
      },
      "outputs": [],
      "source": [
        "for x in range(len(Paises)):                            # Se reemplaza el valor del pais por el numero en toda la columna       \n",
        "       if Paises[x] == \"USA\":\n",
        "        Paises[x] = 1\n",
        "\n",
        "for x in range(len(Paises)):\n",
        "     if Paises[x] == \"Europe\":\n",
        "        Paises[x] = 2\n",
        "\n",
        "for x in range(len(Paises)):\n",
        "     if Paises[x] == \"Japan\":\n",
        "        Paises[x] = 3\n",
        "\n",
        "Paises"
      ]
    },
    {
      "cell_type": "code",
      "source": [
        "df[\"Pais_Origen\"] = Paises                              # Se integra la nueva lista en lugar de la anterior\n",
        "\n",
        "df"
      ],
      "metadata": {
        "colab": {
          "base_uri": "https://localhost:8080/",
          "height": 424
        },
        "id": "BaG8hCwKAjHf",
        "outputId": "ddcde6e1-2249-41ce-8643-50bda23e0dbc"
      },
      "execution_count": 16,
      "outputs": [
        {
          "output_type": "execute_result",
          "data": {
            "text/plain": [
              "     Millas_Por_Galon  Cilindros  Pais_Origen  Peso_En_Libras  Desplazamiento  \\\n",
              "0                18.0          8            1            3504           307.0   \n",
              "1                15.0          8            1            3693           350.0   \n",
              "2                18.0          8            1            3436           318.0   \n",
              "3                16.0          8            1            3433           304.0   \n",
              "4                17.0          8            1            3449           302.0   \n",
              "..                ...        ...          ...             ...             ...   \n",
              "401              27.0          4            1            2790           140.0   \n",
              "402              44.0          4            2            2130            97.0   \n",
              "403              32.0          4            1            2295           135.0   \n",
              "404              28.0          4            1            2625           120.0   \n",
              "405              31.0          4            1            2720           119.0   \n",
              "\n",
              "     Aceleracion                     Nombre        Anyo  Caballo_De_Fuerza  \n",
              "0           12.0  chevrolet chevelle malibu  01/01/1970              130.0  \n",
              "1           11.5          buick skylark 320  01/01/1970              165.0  \n",
              "2           11.0         plymouth satellite  01/01/1970              150.0  \n",
              "3           12.0              amc rebel sst  01/01/1970              150.0  \n",
              "4           10.5                ford torino  01/01/1970              140.0  \n",
              "..           ...                        ...         ...                ...  \n",
              "401         15.6            ford mustang gl  01/01/1982               86.0  \n",
              "402         24.6                  vw pickup  01/01/1982               52.0  \n",
              "403         11.6              dodge rampage  01/01/1982               84.0  \n",
              "404         18.6                ford ranger  01/01/1982               79.0  \n",
              "405         19.4                 chevy s-10  01/01/1982               82.0  \n",
              "\n",
              "[406 rows x 9 columns]"
            ],
            "text/html": [
              "\n",
              "  <div id=\"df-3948907c-4b90-498a-8a0b-fee6d9fffa60\">\n",
              "    <div class=\"colab-df-container\">\n",
              "      <div>\n",
              "<style scoped>\n",
              "    .dataframe tbody tr th:only-of-type {\n",
              "        vertical-align: middle;\n",
              "    }\n",
              "\n",
              "    .dataframe tbody tr th {\n",
              "        vertical-align: top;\n",
              "    }\n",
              "\n",
              "    .dataframe thead th {\n",
              "        text-align: right;\n",
              "    }\n",
              "</style>\n",
              "<table border=\"1\" class=\"dataframe\">\n",
              "  <thead>\n",
              "    <tr style=\"text-align: right;\">\n",
              "      <th></th>\n",
              "      <th>Millas_Por_Galon</th>\n",
              "      <th>Cilindros</th>\n",
              "      <th>Pais_Origen</th>\n",
              "      <th>Peso_En_Libras</th>\n",
              "      <th>Desplazamiento</th>\n",
              "      <th>Aceleracion</th>\n",
              "      <th>Nombre</th>\n",
              "      <th>Anyo</th>\n",
              "      <th>Caballo_De_Fuerza</th>\n",
              "    </tr>\n",
              "  </thead>\n",
              "  <tbody>\n",
              "    <tr>\n",
              "      <th>0</th>\n",
              "      <td>18.0</td>\n",
              "      <td>8</td>\n",
              "      <td>1</td>\n",
              "      <td>3504</td>\n",
              "      <td>307.0</td>\n",
              "      <td>12.0</td>\n",
              "      <td>chevrolet chevelle malibu</td>\n",
              "      <td>01/01/1970</td>\n",
              "      <td>130.0</td>\n",
              "    </tr>\n",
              "    <tr>\n",
              "      <th>1</th>\n",
              "      <td>15.0</td>\n",
              "      <td>8</td>\n",
              "      <td>1</td>\n",
              "      <td>3693</td>\n",
              "      <td>350.0</td>\n",
              "      <td>11.5</td>\n",
              "      <td>buick skylark 320</td>\n",
              "      <td>01/01/1970</td>\n",
              "      <td>165.0</td>\n",
              "    </tr>\n",
              "    <tr>\n",
              "      <th>2</th>\n",
              "      <td>18.0</td>\n",
              "      <td>8</td>\n",
              "      <td>1</td>\n",
              "      <td>3436</td>\n",
              "      <td>318.0</td>\n",
              "      <td>11.0</td>\n",
              "      <td>plymouth satellite</td>\n",
              "      <td>01/01/1970</td>\n",
              "      <td>150.0</td>\n",
              "    </tr>\n",
              "    <tr>\n",
              "      <th>3</th>\n",
              "      <td>16.0</td>\n",
              "      <td>8</td>\n",
              "      <td>1</td>\n",
              "      <td>3433</td>\n",
              "      <td>304.0</td>\n",
              "      <td>12.0</td>\n",
              "      <td>amc rebel sst</td>\n",
              "      <td>01/01/1970</td>\n",
              "      <td>150.0</td>\n",
              "    </tr>\n",
              "    <tr>\n",
              "      <th>4</th>\n",
              "      <td>17.0</td>\n",
              "      <td>8</td>\n",
              "      <td>1</td>\n",
              "      <td>3449</td>\n",
              "      <td>302.0</td>\n",
              "      <td>10.5</td>\n",
              "      <td>ford torino</td>\n",
              "      <td>01/01/1970</td>\n",
              "      <td>140.0</td>\n",
              "    </tr>\n",
              "    <tr>\n",
              "      <th>...</th>\n",
              "      <td>...</td>\n",
              "      <td>...</td>\n",
              "      <td>...</td>\n",
              "      <td>...</td>\n",
              "      <td>...</td>\n",
              "      <td>...</td>\n",
              "      <td>...</td>\n",
              "      <td>...</td>\n",
              "      <td>...</td>\n",
              "    </tr>\n",
              "    <tr>\n",
              "      <th>401</th>\n",
              "      <td>27.0</td>\n",
              "      <td>4</td>\n",
              "      <td>1</td>\n",
              "      <td>2790</td>\n",
              "      <td>140.0</td>\n",
              "      <td>15.6</td>\n",
              "      <td>ford mustang gl</td>\n",
              "      <td>01/01/1982</td>\n",
              "      <td>86.0</td>\n",
              "    </tr>\n",
              "    <tr>\n",
              "      <th>402</th>\n",
              "      <td>44.0</td>\n",
              "      <td>4</td>\n",
              "      <td>2</td>\n",
              "      <td>2130</td>\n",
              "      <td>97.0</td>\n",
              "      <td>24.6</td>\n",
              "      <td>vw pickup</td>\n",
              "      <td>01/01/1982</td>\n",
              "      <td>52.0</td>\n",
              "    </tr>\n",
              "    <tr>\n",
              "      <th>403</th>\n",
              "      <td>32.0</td>\n",
              "      <td>4</td>\n",
              "      <td>1</td>\n",
              "      <td>2295</td>\n",
              "      <td>135.0</td>\n",
              "      <td>11.6</td>\n",
              "      <td>dodge rampage</td>\n",
              "      <td>01/01/1982</td>\n",
              "      <td>84.0</td>\n",
              "    </tr>\n",
              "    <tr>\n",
              "      <th>404</th>\n",
              "      <td>28.0</td>\n",
              "      <td>4</td>\n",
              "      <td>1</td>\n",
              "      <td>2625</td>\n",
              "      <td>120.0</td>\n",
              "      <td>18.6</td>\n",
              "      <td>ford ranger</td>\n",
              "      <td>01/01/1982</td>\n",
              "      <td>79.0</td>\n",
              "    </tr>\n",
              "    <tr>\n",
              "      <th>405</th>\n",
              "      <td>31.0</td>\n",
              "      <td>4</td>\n",
              "      <td>1</td>\n",
              "      <td>2720</td>\n",
              "      <td>119.0</td>\n",
              "      <td>19.4</td>\n",
              "      <td>chevy s-10</td>\n",
              "      <td>01/01/1982</td>\n",
              "      <td>82.0</td>\n",
              "    </tr>\n",
              "  </tbody>\n",
              "</table>\n",
              "<p>406 rows × 9 columns</p>\n",
              "</div>\n",
              "      <button class=\"colab-df-convert\" onclick=\"convertToInteractive('df-3948907c-4b90-498a-8a0b-fee6d9fffa60')\"\n",
              "              title=\"Convert this dataframe to an interactive table.\"\n",
              "              style=\"display:none;\">\n",
              "        \n",
              "  <svg xmlns=\"http://www.w3.org/2000/svg\" height=\"24px\"viewBox=\"0 0 24 24\"\n",
              "       width=\"24px\">\n",
              "    <path d=\"M0 0h24v24H0V0z\" fill=\"none\"/>\n",
              "    <path d=\"M18.56 5.44l.94 2.06.94-2.06 2.06-.94-2.06-.94-.94-2.06-.94 2.06-2.06.94zm-11 1L8.5 8.5l.94-2.06 2.06-.94-2.06-.94L8.5 2.5l-.94 2.06-2.06.94zm10 10l.94 2.06.94-2.06 2.06-.94-2.06-.94-.94-2.06-.94 2.06-2.06.94z\"/><path d=\"M17.41 7.96l-1.37-1.37c-.4-.4-.92-.59-1.43-.59-.52 0-1.04.2-1.43.59L10.3 9.45l-7.72 7.72c-.78.78-.78 2.05 0 2.83L4 21.41c.39.39.9.59 1.41.59.51 0 1.02-.2 1.41-.59l7.78-7.78 2.81-2.81c.8-.78.8-2.07 0-2.86zM5.41 20L4 18.59l7.72-7.72 1.47 1.35L5.41 20z\"/>\n",
              "  </svg>\n",
              "      </button>\n",
              "      \n",
              "  <style>\n",
              "    .colab-df-container {\n",
              "      display:flex;\n",
              "      flex-wrap:wrap;\n",
              "      gap: 12px;\n",
              "    }\n",
              "\n",
              "    .colab-df-convert {\n",
              "      background-color: #E8F0FE;\n",
              "      border: none;\n",
              "      border-radius: 50%;\n",
              "      cursor: pointer;\n",
              "      display: none;\n",
              "      fill: #1967D2;\n",
              "      height: 32px;\n",
              "      padding: 0 0 0 0;\n",
              "      width: 32px;\n",
              "    }\n",
              "\n",
              "    .colab-df-convert:hover {\n",
              "      background-color: #E2EBFA;\n",
              "      box-shadow: 0px 1px 2px rgba(60, 64, 67, 0.3), 0px 1px 3px 1px rgba(60, 64, 67, 0.15);\n",
              "      fill: #174EA6;\n",
              "    }\n",
              "\n",
              "    [theme=dark] .colab-df-convert {\n",
              "      background-color: #3B4455;\n",
              "      fill: #D2E3FC;\n",
              "    }\n",
              "\n",
              "    [theme=dark] .colab-df-convert:hover {\n",
              "      background-color: #434B5C;\n",
              "      box-shadow: 0px 1px 3px 1px rgba(0, 0, 0, 0.15);\n",
              "      filter: drop-shadow(0px 1px 2px rgba(0, 0, 0, 0.3));\n",
              "      fill: #FFFFFF;\n",
              "    }\n",
              "  </style>\n",
              "\n",
              "      <script>\n",
              "        const buttonEl =\n",
              "          document.querySelector('#df-3948907c-4b90-498a-8a0b-fee6d9fffa60 button.colab-df-convert');\n",
              "        buttonEl.style.display =\n",
              "          google.colab.kernel.accessAllowed ? 'block' : 'none';\n",
              "\n",
              "        async function convertToInteractive(key) {\n",
              "          const element = document.querySelector('#df-3948907c-4b90-498a-8a0b-fee6d9fffa60');\n",
              "          const dataTable =\n",
              "            await google.colab.kernel.invokeFunction('convertToInteractive',\n",
              "                                                     [key], {});\n",
              "          if (!dataTable) return;\n",
              "\n",
              "          const docLinkHtml = 'Like what you see? Visit the ' +\n",
              "            '<a target=\"_blank\" href=https://colab.research.google.com/notebooks/data_table.ipynb>data table notebook</a>'\n",
              "            + ' to learn more about interactive tables.';\n",
              "          element.innerHTML = '';\n",
              "          dataTable['output_type'] = 'display_data';\n",
              "          await google.colab.output.renderOutput(dataTable, element);\n",
              "          const docLink = document.createElement('div');\n",
              "          docLink.innerHTML = docLinkHtml;\n",
              "          element.appendChild(docLink);\n",
              "        }\n",
              "      </script>\n",
              "    </div>\n",
              "  </div>\n",
              "  "
            ]
          },
          "metadata": {},
          "execution_count": 16
        }
      ]
    },
    {
      "cell_type": "markdown",
      "source": [
        "# Ejercicio N°2\n",
        "Generar un Notebook Colab con código y resultados, con el\n",
        "siguiente fichero autos.csv que contiene información de autos de\n",
        "un periodo de tiempo. Resolver los siguientes:\n",
        "- Limpieza y tratamiento de las variables (Según corresponda)\n",
        "- Generar 5 nuevas variables aplicando los siguientes criterios\n",
        "con las variables numéricas:\n",
        "1. Log10(var1/var2)\n",
        "2. Sqrt(var1)*exp(var2)/200\n",
        "3. Si var 1 &gt; var 2 → 5, caso contrario 3\n",
        "4. 1/logn(var1/var2)*100\n",
        "5. var2**2/var1\n",
        "\n",
        "- Generar 3 variables cualitativas ordinales a partir de las\n",
        "variables numéricas con los siguientes criterios:\n",
        "\n",
        "★ Si es mayor a la “media + 1*desviación estándar” →\n",
        "Alto\n",
        "\n",
        "★ Si está entre “media - 1*desviación estándar” y\n",
        "“media + 1*desviación estándar” → Medio\n",
        "\n",
        "★ Si es menor a la “media - 1*desviación estándar” →\n",
        "Bajo\n",
        "Nota: Mostrar con las nuevas variables generadas.\n",
        "Elegir con libertad las variables a trabajar.\n",
        "- Crear una función que muestre los siguientes gráficos para\n",
        "las variables numéricas según una variable cualitativa:\n",
        "\n",
        "❖ Cajas y bigotes\n",
        "\n",
        "❖ Barras de la media\n",
        "\n",
        "❖ Histograma con Curva\n",
        "\n",
        "- Crear una función que devuelva un mapa de calor con la\n",
        "correlación de todas las variables numéricas (incluye las\n",
        "generadas), para cada país."
      ],
      "metadata": {
        "id": "8mlXusTVSPsR"
      }
    },
    {
      "cell_type": "markdown",
      "source": [
        "### Limpieza y tratamiento de las variables (Según corresponda)"
      ],
      "metadata": {
        "id": "7Dh113bjHg29"
      }
    },
    {
      "cell_type": "code",
      "source": [
        "df.head(10)           # Visualizamos los datos del Data Frame"
      ],
      "metadata": {
        "colab": {
          "base_uri": "https://localhost:8080/",
          "height": 407
        },
        "id": "ChJPZF2THsav",
        "outputId": "3c40f8cc-8070-49ce-f1a9-9ebd9866f9cc"
      },
      "execution_count": null,
      "outputs": [
        {
          "output_type": "execute_result",
          "data": {
            "text/plain": [
              "   Millas_Por_Galon  Cilindros  Pais_Origen  Peso_En_Libras  Desplazamiento  \\\n",
              "0              18.0          8            1            3504           307.0   \n",
              "1              15.0          8            1            3693           350.0   \n",
              "2              18.0          8            1            3436           318.0   \n",
              "3              16.0          8            1            3433           304.0   \n",
              "4              17.0          8            1            3449           302.0   \n",
              "5              15.0          8            1            4341           429.0   \n",
              "6              14.0          8            1            4354           454.0   \n",
              "7              14.0          8            1            4312           440.0   \n",
              "8              14.0          8            1            4425           455.0   \n",
              "9              15.0          8            1            3850           390.0   \n",
              "\n",
              "   Aceleracion                     Nombre        Anyo  Caballo_De_Fuerza  \n",
              "0         12.0  chevrolet chevelle malibu  01/01/1970              130.0  \n",
              "1         11.5          buick skylark 320  01/01/1970              165.0  \n",
              "2         11.0         plymouth satellite  01/01/1970              150.0  \n",
              "3         12.0              amc rebel sst  01/01/1970              150.0  \n",
              "4         10.5                ford torino  01/01/1970              140.0  \n",
              "5         10.0           ford galaxie 500  01/01/1970              198.0  \n",
              "6          9.0           chevrolet impala  01/01/1970              220.0  \n",
              "7          8.5          plymouth fury iii  01/01/1970              215.0  \n",
              "8         10.0           pontiac catalina  01/01/1970              225.0  \n",
              "9          8.5         amc ambassador dpl  01/01/1970              190.0  "
            ],
            "text/html": [
              "\n",
              "  <div id=\"df-2152ca5c-72b0-4da6-b0d4-7b0595e4ac38\">\n",
              "    <div class=\"colab-df-container\">\n",
              "      <div>\n",
              "<style scoped>\n",
              "    .dataframe tbody tr th:only-of-type {\n",
              "        vertical-align: middle;\n",
              "    }\n",
              "\n",
              "    .dataframe tbody tr th {\n",
              "        vertical-align: top;\n",
              "    }\n",
              "\n",
              "    .dataframe thead th {\n",
              "        text-align: right;\n",
              "    }\n",
              "</style>\n",
              "<table border=\"1\" class=\"dataframe\">\n",
              "  <thead>\n",
              "    <tr style=\"text-align: right;\">\n",
              "      <th></th>\n",
              "      <th>Millas_Por_Galon</th>\n",
              "      <th>Cilindros</th>\n",
              "      <th>Pais_Origen</th>\n",
              "      <th>Peso_En_Libras</th>\n",
              "      <th>Desplazamiento</th>\n",
              "      <th>Aceleracion</th>\n",
              "      <th>Nombre</th>\n",
              "      <th>Anyo</th>\n",
              "      <th>Caballo_De_Fuerza</th>\n",
              "    </tr>\n",
              "  </thead>\n",
              "  <tbody>\n",
              "    <tr>\n",
              "      <th>0</th>\n",
              "      <td>18.0</td>\n",
              "      <td>8</td>\n",
              "      <td>1</td>\n",
              "      <td>3504</td>\n",
              "      <td>307.0</td>\n",
              "      <td>12.0</td>\n",
              "      <td>chevrolet chevelle malibu</td>\n",
              "      <td>01/01/1970</td>\n",
              "      <td>130.0</td>\n",
              "    </tr>\n",
              "    <tr>\n",
              "      <th>1</th>\n",
              "      <td>15.0</td>\n",
              "      <td>8</td>\n",
              "      <td>1</td>\n",
              "      <td>3693</td>\n",
              "      <td>350.0</td>\n",
              "      <td>11.5</td>\n",
              "      <td>buick skylark 320</td>\n",
              "      <td>01/01/1970</td>\n",
              "      <td>165.0</td>\n",
              "    </tr>\n",
              "    <tr>\n",
              "      <th>2</th>\n",
              "      <td>18.0</td>\n",
              "      <td>8</td>\n",
              "      <td>1</td>\n",
              "      <td>3436</td>\n",
              "      <td>318.0</td>\n",
              "      <td>11.0</td>\n",
              "      <td>plymouth satellite</td>\n",
              "      <td>01/01/1970</td>\n",
              "      <td>150.0</td>\n",
              "    </tr>\n",
              "    <tr>\n",
              "      <th>3</th>\n",
              "      <td>16.0</td>\n",
              "      <td>8</td>\n",
              "      <td>1</td>\n",
              "      <td>3433</td>\n",
              "      <td>304.0</td>\n",
              "      <td>12.0</td>\n",
              "      <td>amc rebel sst</td>\n",
              "      <td>01/01/1970</td>\n",
              "      <td>150.0</td>\n",
              "    </tr>\n",
              "    <tr>\n",
              "      <th>4</th>\n",
              "      <td>17.0</td>\n",
              "      <td>8</td>\n",
              "      <td>1</td>\n",
              "      <td>3449</td>\n",
              "      <td>302.0</td>\n",
              "      <td>10.5</td>\n",
              "      <td>ford torino</td>\n",
              "      <td>01/01/1970</td>\n",
              "      <td>140.0</td>\n",
              "    </tr>\n",
              "    <tr>\n",
              "      <th>5</th>\n",
              "      <td>15.0</td>\n",
              "      <td>8</td>\n",
              "      <td>1</td>\n",
              "      <td>4341</td>\n",
              "      <td>429.0</td>\n",
              "      <td>10.0</td>\n",
              "      <td>ford galaxie 500</td>\n",
              "      <td>01/01/1970</td>\n",
              "      <td>198.0</td>\n",
              "    </tr>\n",
              "    <tr>\n",
              "      <th>6</th>\n",
              "      <td>14.0</td>\n",
              "      <td>8</td>\n",
              "      <td>1</td>\n",
              "      <td>4354</td>\n",
              "      <td>454.0</td>\n",
              "      <td>9.0</td>\n",
              "      <td>chevrolet impala</td>\n",
              "      <td>01/01/1970</td>\n",
              "      <td>220.0</td>\n",
              "    </tr>\n",
              "    <tr>\n",
              "      <th>7</th>\n",
              "      <td>14.0</td>\n",
              "      <td>8</td>\n",
              "      <td>1</td>\n",
              "      <td>4312</td>\n",
              "      <td>440.0</td>\n",
              "      <td>8.5</td>\n",
              "      <td>plymouth fury iii</td>\n",
              "      <td>01/01/1970</td>\n",
              "      <td>215.0</td>\n",
              "    </tr>\n",
              "    <tr>\n",
              "      <th>8</th>\n",
              "      <td>14.0</td>\n",
              "      <td>8</td>\n",
              "      <td>1</td>\n",
              "      <td>4425</td>\n",
              "      <td>455.0</td>\n",
              "      <td>10.0</td>\n",
              "      <td>pontiac catalina</td>\n",
              "      <td>01/01/1970</td>\n",
              "      <td>225.0</td>\n",
              "    </tr>\n",
              "    <tr>\n",
              "      <th>9</th>\n",
              "      <td>15.0</td>\n",
              "      <td>8</td>\n",
              "      <td>1</td>\n",
              "      <td>3850</td>\n",
              "      <td>390.0</td>\n",
              "      <td>8.5</td>\n",
              "      <td>amc ambassador dpl</td>\n",
              "      <td>01/01/1970</td>\n",
              "      <td>190.0</td>\n",
              "    </tr>\n",
              "  </tbody>\n",
              "</table>\n",
              "</div>\n",
              "      <button class=\"colab-df-convert\" onclick=\"convertToInteractive('df-2152ca5c-72b0-4da6-b0d4-7b0595e4ac38')\"\n",
              "              title=\"Convert this dataframe to an interactive table.\"\n",
              "              style=\"display:none;\">\n",
              "        \n",
              "  <svg xmlns=\"http://www.w3.org/2000/svg\" height=\"24px\"viewBox=\"0 0 24 24\"\n",
              "       width=\"24px\">\n",
              "    <path d=\"M0 0h24v24H0V0z\" fill=\"none\"/>\n",
              "    <path d=\"M18.56 5.44l.94 2.06.94-2.06 2.06-.94-2.06-.94-.94-2.06-.94 2.06-2.06.94zm-11 1L8.5 8.5l.94-2.06 2.06-.94-2.06-.94L8.5 2.5l-.94 2.06-2.06.94zm10 10l.94 2.06.94-2.06 2.06-.94-2.06-.94-.94-2.06-.94 2.06-2.06.94z\"/><path d=\"M17.41 7.96l-1.37-1.37c-.4-.4-.92-.59-1.43-.59-.52 0-1.04.2-1.43.59L10.3 9.45l-7.72 7.72c-.78.78-.78 2.05 0 2.83L4 21.41c.39.39.9.59 1.41.59.51 0 1.02-.2 1.41-.59l7.78-7.78 2.81-2.81c.8-.78.8-2.07 0-2.86zM5.41 20L4 18.59l7.72-7.72 1.47 1.35L5.41 20z\"/>\n",
              "  </svg>\n",
              "      </button>\n",
              "      \n",
              "  <style>\n",
              "    .colab-df-container {\n",
              "      display:flex;\n",
              "      flex-wrap:wrap;\n",
              "      gap: 12px;\n",
              "    }\n",
              "\n",
              "    .colab-df-convert {\n",
              "      background-color: #E8F0FE;\n",
              "      border: none;\n",
              "      border-radius: 50%;\n",
              "      cursor: pointer;\n",
              "      display: none;\n",
              "      fill: #1967D2;\n",
              "      height: 32px;\n",
              "      padding: 0 0 0 0;\n",
              "      width: 32px;\n",
              "    }\n",
              "\n",
              "    .colab-df-convert:hover {\n",
              "      background-color: #E2EBFA;\n",
              "      box-shadow: 0px 1px 2px rgba(60, 64, 67, 0.3), 0px 1px 3px 1px rgba(60, 64, 67, 0.15);\n",
              "      fill: #174EA6;\n",
              "    }\n",
              "\n",
              "    [theme=dark] .colab-df-convert {\n",
              "      background-color: #3B4455;\n",
              "      fill: #D2E3FC;\n",
              "    }\n",
              "\n",
              "    [theme=dark] .colab-df-convert:hover {\n",
              "      background-color: #434B5C;\n",
              "      box-shadow: 0px 1px 3px 1px rgba(0, 0, 0, 0.15);\n",
              "      filter: drop-shadow(0px 1px 2px rgba(0, 0, 0, 0.3));\n",
              "      fill: #FFFFFF;\n",
              "    }\n",
              "  </style>\n",
              "\n",
              "      <script>\n",
              "        const buttonEl =\n",
              "          document.querySelector('#df-2152ca5c-72b0-4da6-b0d4-7b0595e4ac38 button.colab-df-convert');\n",
              "        buttonEl.style.display =\n",
              "          google.colab.kernel.accessAllowed ? 'block' : 'none';\n",
              "\n",
              "        async function convertToInteractive(key) {\n",
              "          const element = document.querySelector('#df-2152ca5c-72b0-4da6-b0d4-7b0595e4ac38');\n",
              "          const dataTable =\n",
              "            await google.colab.kernel.invokeFunction('convertToInteractive',\n",
              "                                                     [key], {});\n",
              "          if (!dataTable) return;\n",
              "\n",
              "          const docLinkHtml = 'Like what you see? Visit the ' +\n",
              "            '<a target=\"_blank\" href=https://colab.research.google.com/notebooks/data_table.ipynb>data table notebook</a>'\n",
              "            + ' to learn more about interactive tables.';\n",
              "          element.innerHTML = '';\n",
              "          dataTable['output_type'] = 'display_data';\n",
              "          await google.colab.output.renderOutput(dataTable, element);\n",
              "          const docLink = document.createElement('div');\n",
              "          docLink.innerHTML = docLinkHtml;\n",
              "          element.appendChild(docLink);\n",
              "        }\n",
              "      </script>\n",
              "    </div>\n",
              "  </div>\n",
              "  "
            ]
          },
          "metadata": {},
          "execution_count": 11
        }
      ]
    },
    {
      "cell_type": "code",
      "source": [
        "df.columns             # Se visualizan las variables, buscando las columnas"
      ],
      "metadata": {
        "colab": {
          "base_uri": "https://localhost:8080/"
        },
        "id": "HcBoqRoYLz4Y",
        "outputId": "dc5d172c-475a-445c-f831-dcddf6a277c7"
      },
      "execution_count": null,
      "outputs": [
        {
          "output_type": "execute_result",
          "data": {
            "text/plain": [
              "Index(['Millas_Por_Galon', 'Cilindros', 'Pais_Origen', 'Peso_En_Libras',\n",
              "       'Desplazamiento', 'Aceleracion', 'Nombre', 'Anyo', 'Caballo_De_Fuerza'],\n",
              "      dtype='object')"
            ]
          },
          "metadata": {},
          "execution_count": 7
        }
      ]
    },
    {
      "cell_type": "code",
      "source": [
        "df.shape                # Observamos el numero de columnas y filas\n",
        "\n",
        "# 406 registros, con 9 variables "
      ],
      "metadata": {
        "colab": {
          "base_uri": "https://localhost:8080/"
        },
        "id": "gGXF26eoMENX",
        "outputId": "25655d0c-b329-41ea-c79f-8a3c135de35e"
      },
      "execution_count": null,
      "outputs": [
        {
          "output_type": "execute_result",
          "data": {
            "text/plain": [
              "(406, 9)"
            ]
          },
          "metadata": {},
          "execution_count": 9
        }
      ]
    },
    {
      "cell_type": "code",
      "source": [
        "df.info    # Informacion del dataframe, nombre de variables, primeros 5 y ulitmos 5 registros, numero de registros, numero de variables "
      ],
      "metadata": {
        "colab": {
          "base_uri": "https://localhost:8080/"
        },
        "id": "BfNjdR3jR2-x",
        "outputId": "38331144-051c-4da2-9e35-149d75604e30"
      },
      "execution_count": null,
      "outputs": [
        {
          "output_type": "execute_result",
          "data": {
            "text/plain": [
              "<bound method DataFrame.info of      Millas_Por_Galon  Cilindros  Pais_Origen  Peso_En_Libras  Desplazamiento  \\\n",
              "0                18.0          8            1            3504           307.0   \n",
              "1                15.0          8            1            3693           350.0   \n",
              "2                18.0          8            1            3436           318.0   \n",
              "3                16.0          8            1            3433           304.0   \n",
              "4                17.0          8            1            3449           302.0   \n",
              "..                ...        ...          ...             ...             ...   \n",
              "401              27.0          4            1            2790           140.0   \n",
              "402              44.0          4            2            2130            97.0   \n",
              "403              32.0          4            1            2295           135.0   \n",
              "404              28.0          4            1            2625           120.0   \n",
              "405              31.0          4            1            2720           119.0   \n",
              "\n",
              "     Aceleracion                     Nombre        Anyo  Caballo_De_Fuerza  \n",
              "0           12.0  chevrolet chevelle malibu  01/01/1970              130.0  \n",
              "1           11.5          buick skylark 320  01/01/1970              165.0  \n",
              "2           11.0         plymouth satellite  01/01/1970              150.0  \n",
              "3           12.0              amc rebel sst  01/01/1970              150.0  \n",
              "4           10.5                ford torino  01/01/1970              140.0  \n",
              "..           ...                        ...         ...                ...  \n",
              "401         15.6            ford mustang gl  01/01/1982               86.0  \n",
              "402         24.6                  vw pickup  01/01/1982               52.0  \n",
              "403         11.6              dodge rampage  01/01/1982               84.0  \n",
              "404         18.6                ford ranger  01/01/1982               79.0  \n",
              "405         19.4                 chevy s-10  01/01/1982               82.0  \n",
              "\n",
              "[406 rows x 9 columns]>"
            ]
          },
          "metadata": {},
          "execution_count": 12
        }
      ]
    },
    {
      "cell_type": "code",
      "source": [
        "df.info()       # Se visauliza la informacion por variable, el tipo de vatiable, y el numero de valores no nulos"
      ],
      "metadata": {
        "colab": {
          "base_uri": "https://localhost:8080/"
        },
        "id": "EcIwiMUBUhaP",
        "outputId": "1625aee4-c201-4714-83ee-f3032b57c361"
      },
      "execution_count": null,
      "outputs": [
        {
          "output_type": "stream",
          "name": "stdout",
          "text": [
            "<class 'pandas.core.frame.DataFrame'>\n",
            "RangeIndex: 406 entries, 0 to 405\n",
            "Data columns (total 9 columns):\n",
            " #   Column             Non-Null Count  Dtype  \n",
            "---  ------             --------------  -----  \n",
            " 0   Millas_Por_Galon   398 non-null    float64\n",
            " 1   Cilindros          406 non-null    int64  \n",
            " 2   Pais_Origen        406 non-null    int64  \n",
            " 3   Peso_En_Libras     406 non-null    int64  \n",
            " 4   Desplazamiento     406 non-null    float64\n",
            " 5   Aceleracion        406 non-null    float64\n",
            " 6   Nombre             406 non-null    object \n",
            " 7   Anyo               406 non-null    object \n",
            " 8   Caballo_De_Fuerza  400 non-null    float64\n",
            "dtypes: float64(4), int64(3), object(2)\n",
            "memory usage: 28.7+ KB\n"
          ]
        }
      ]
    },
    {
      "cell_type": "code",
      "source": [
        "df.isnull().sum()            # Visualizamos los valores nulos por variable"
      ],
      "metadata": {
        "id": "SB3Fni4USr9i",
        "colab": {
          "base_uri": "https://localhost:8080/"
        },
        "outputId": "8ac420f5-5b43-4531-ac4f-aa9844cc50cd"
      },
      "execution_count": null,
      "outputs": [
        {
          "output_type": "execute_result",
          "data": {
            "text/plain": [
              "Millas_Por_Galon     8\n",
              "Cilindros            0\n",
              "Pais_Origen          0\n",
              "Peso_En_Libras       0\n",
              "Desplazamiento       0\n",
              "Aceleracion          0\n",
              "Nombre               0\n",
              "Anyo                 0\n",
              "Caballo_De_Fuerza    6\n",
              "dtype: int64"
            ]
          },
          "metadata": {},
          "execution_count": 6
        }
      ]
    },
    {
      "cell_type": "code",
      "source": [
        "df.describe()                # Estadisticos de los datos"
      ],
      "metadata": {
        "colab": {
          "base_uri": "https://localhost:8080/",
          "height": 300
        },
        "id": "FfhUoiBvY8C8",
        "outputId": "2bf6a763-aa70-4cfc-a0fc-311de028b4e3"
      },
      "execution_count": null,
      "outputs": [
        {
          "output_type": "execute_result",
          "data": {
            "text/plain": [
              "       Millas_Por_Galon   Cilindros  Pais_Origen  Peso_En_Libras  \\\n",
              "count        398.000000  406.000000   406.000000      406.000000   \n",
              "mean          23.514573    5.475369     1.568966     2979.413793   \n",
              "std            7.815984    1.712160     0.797479      847.004328   \n",
              "min            9.000000    3.000000     1.000000     1613.000000   \n",
              "25%           17.500000    4.000000     1.000000     2226.500000   \n",
              "50%           23.000000    4.000000     1.000000     2822.500000   \n",
              "75%           29.000000    8.000000     2.000000     3618.250000   \n",
              "max           46.600000    8.000000     3.000000     5140.000000   \n",
              "\n",
              "       Desplazamiento  Aceleracion  Caballo_De_Fuerza  \n",
              "count      406.000000   406.000000         400.000000  \n",
              "mean       194.779557    15.519704         105.082500  \n",
              "std        104.922458     2.803359          38.768779  \n",
              "min         68.000000     8.000000          46.000000  \n",
              "25%        105.000000    13.700000          75.750000  \n",
              "50%        151.000000    15.500000          95.000000  \n",
              "75%        302.000000    17.175000         130.000000  \n",
              "max        455.000000    24.800000         230.000000  "
            ],
            "text/html": [
              "\n",
              "  <div id=\"df-bb62487b-6d91-42d1-8130-4ea70efe5fdc\">\n",
              "    <div class=\"colab-df-container\">\n",
              "      <div>\n",
              "<style scoped>\n",
              "    .dataframe tbody tr th:only-of-type {\n",
              "        vertical-align: middle;\n",
              "    }\n",
              "\n",
              "    .dataframe tbody tr th {\n",
              "        vertical-align: top;\n",
              "    }\n",
              "\n",
              "    .dataframe thead th {\n",
              "        text-align: right;\n",
              "    }\n",
              "</style>\n",
              "<table border=\"1\" class=\"dataframe\">\n",
              "  <thead>\n",
              "    <tr style=\"text-align: right;\">\n",
              "      <th></th>\n",
              "      <th>Millas_Por_Galon</th>\n",
              "      <th>Cilindros</th>\n",
              "      <th>Pais_Origen</th>\n",
              "      <th>Peso_En_Libras</th>\n",
              "      <th>Desplazamiento</th>\n",
              "      <th>Aceleracion</th>\n",
              "      <th>Caballo_De_Fuerza</th>\n",
              "    </tr>\n",
              "  </thead>\n",
              "  <tbody>\n",
              "    <tr>\n",
              "      <th>count</th>\n",
              "      <td>398.000000</td>\n",
              "      <td>406.000000</td>\n",
              "      <td>406.000000</td>\n",
              "      <td>406.000000</td>\n",
              "      <td>406.000000</td>\n",
              "      <td>406.000000</td>\n",
              "      <td>400.000000</td>\n",
              "    </tr>\n",
              "    <tr>\n",
              "      <th>mean</th>\n",
              "      <td>23.514573</td>\n",
              "      <td>5.475369</td>\n",
              "      <td>1.568966</td>\n",
              "      <td>2979.413793</td>\n",
              "      <td>194.779557</td>\n",
              "      <td>15.519704</td>\n",
              "      <td>105.082500</td>\n",
              "    </tr>\n",
              "    <tr>\n",
              "      <th>std</th>\n",
              "      <td>7.815984</td>\n",
              "      <td>1.712160</td>\n",
              "      <td>0.797479</td>\n",
              "      <td>847.004328</td>\n",
              "      <td>104.922458</td>\n",
              "      <td>2.803359</td>\n",
              "      <td>38.768779</td>\n",
              "    </tr>\n",
              "    <tr>\n",
              "      <th>min</th>\n",
              "      <td>9.000000</td>\n",
              "      <td>3.000000</td>\n",
              "      <td>1.000000</td>\n",
              "      <td>1613.000000</td>\n",
              "      <td>68.000000</td>\n",
              "      <td>8.000000</td>\n",
              "      <td>46.000000</td>\n",
              "    </tr>\n",
              "    <tr>\n",
              "      <th>25%</th>\n",
              "      <td>17.500000</td>\n",
              "      <td>4.000000</td>\n",
              "      <td>1.000000</td>\n",
              "      <td>2226.500000</td>\n",
              "      <td>105.000000</td>\n",
              "      <td>13.700000</td>\n",
              "      <td>75.750000</td>\n",
              "    </tr>\n",
              "    <tr>\n",
              "      <th>50%</th>\n",
              "      <td>23.000000</td>\n",
              "      <td>4.000000</td>\n",
              "      <td>1.000000</td>\n",
              "      <td>2822.500000</td>\n",
              "      <td>151.000000</td>\n",
              "      <td>15.500000</td>\n",
              "      <td>95.000000</td>\n",
              "    </tr>\n",
              "    <tr>\n",
              "      <th>75%</th>\n",
              "      <td>29.000000</td>\n",
              "      <td>8.000000</td>\n",
              "      <td>2.000000</td>\n",
              "      <td>3618.250000</td>\n",
              "      <td>302.000000</td>\n",
              "      <td>17.175000</td>\n",
              "      <td>130.000000</td>\n",
              "    </tr>\n",
              "    <tr>\n",
              "      <th>max</th>\n",
              "      <td>46.600000</td>\n",
              "      <td>8.000000</td>\n",
              "      <td>3.000000</td>\n",
              "      <td>5140.000000</td>\n",
              "      <td>455.000000</td>\n",
              "      <td>24.800000</td>\n",
              "      <td>230.000000</td>\n",
              "    </tr>\n",
              "  </tbody>\n",
              "</table>\n",
              "</div>\n",
              "      <button class=\"colab-df-convert\" onclick=\"convertToInteractive('df-bb62487b-6d91-42d1-8130-4ea70efe5fdc')\"\n",
              "              title=\"Convert this dataframe to an interactive table.\"\n",
              "              style=\"display:none;\">\n",
              "        \n",
              "  <svg xmlns=\"http://www.w3.org/2000/svg\" height=\"24px\"viewBox=\"0 0 24 24\"\n",
              "       width=\"24px\">\n",
              "    <path d=\"M0 0h24v24H0V0z\" fill=\"none\"/>\n",
              "    <path d=\"M18.56 5.44l.94 2.06.94-2.06 2.06-.94-2.06-.94-.94-2.06-.94 2.06-2.06.94zm-11 1L8.5 8.5l.94-2.06 2.06-.94-2.06-.94L8.5 2.5l-.94 2.06-2.06.94zm10 10l.94 2.06.94-2.06 2.06-.94-2.06-.94-.94-2.06-.94 2.06-2.06.94z\"/><path d=\"M17.41 7.96l-1.37-1.37c-.4-.4-.92-.59-1.43-.59-.52 0-1.04.2-1.43.59L10.3 9.45l-7.72 7.72c-.78.78-.78 2.05 0 2.83L4 21.41c.39.39.9.59 1.41.59.51 0 1.02-.2 1.41-.59l7.78-7.78 2.81-2.81c.8-.78.8-2.07 0-2.86zM5.41 20L4 18.59l7.72-7.72 1.47 1.35L5.41 20z\"/>\n",
              "  </svg>\n",
              "      </button>\n",
              "      \n",
              "  <style>\n",
              "    .colab-df-container {\n",
              "      display:flex;\n",
              "      flex-wrap:wrap;\n",
              "      gap: 12px;\n",
              "    }\n",
              "\n",
              "    .colab-df-convert {\n",
              "      background-color: #E8F0FE;\n",
              "      border: none;\n",
              "      border-radius: 50%;\n",
              "      cursor: pointer;\n",
              "      display: none;\n",
              "      fill: #1967D2;\n",
              "      height: 32px;\n",
              "      padding: 0 0 0 0;\n",
              "      width: 32px;\n",
              "    }\n",
              "\n",
              "    .colab-df-convert:hover {\n",
              "      background-color: #E2EBFA;\n",
              "      box-shadow: 0px 1px 2px rgba(60, 64, 67, 0.3), 0px 1px 3px 1px rgba(60, 64, 67, 0.15);\n",
              "      fill: #174EA6;\n",
              "    }\n",
              "\n",
              "    [theme=dark] .colab-df-convert {\n",
              "      background-color: #3B4455;\n",
              "      fill: #D2E3FC;\n",
              "    }\n",
              "\n",
              "    [theme=dark] .colab-df-convert:hover {\n",
              "      background-color: #434B5C;\n",
              "      box-shadow: 0px 1px 3px 1px rgba(0, 0, 0, 0.15);\n",
              "      filter: drop-shadow(0px 1px 2px rgba(0, 0, 0, 0.3));\n",
              "      fill: #FFFFFF;\n",
              "    }\n",
              "  </style>\n",
              "\n",
              "      <script>\n",
              "        const buttonEl =\n",
              "          document.querySelector('#df-bb62487b-6d91-42d1-8130-4ea70efe5fdc button.colab-df-convert');\n",
              "        buttonEl.style.display =\n",
              "          google.colab.kernel.accessAllowed ? 'block' : 'none';\n",
              "\n",
              "        async function convertToInteractive(key) {\n",
              "          const element = document.querySelector('#df-bb62487b-6d91-42d1-8130-4ea70efe5fdc');\n",
              "          const dataTable =\n",
              "            await google.colab.kernel.invokeFunction('convertToInteractive',\n",
              "                                                     [key], {});\n",
              "          if (!dataTable) return;\n",
              "\n",
              "          const docLinkHtml = 'Like what you see? Visit the ' +\n",
              "            '<a target=\"_blank\" href=https://colab.research.google.com/notebooks/data_table.ipynb>data table notebook</a>'\n",
              "            + ' to learn more about interactive tables.';\n",
              "          element.innerHTML = '';\n",
              "          dataTable['output_type'] = 'display_data';\n",
              "          await google.colab.output.renderOutput(dataTable, element);\n",
              "          const docLink = document.createElement('div');\n",
              "          docLink.innerHTML = docLinkHtml;\n",
              "          element.appendChild(docLink);\n",
              "        }\n",
              "      </script>\n",
              "    </div>\n",
              "  </div>\n",
              "  "
            ]
          },
          "metadata": {},
          "execution_count": 14
        }
      ]
    },
    {
      "cell_type": "code",
      "source": [
        "# borrar los datos nulos, con una nueva dataframe\n",
        "\n",
        "df_sinna = df.dropna()"
      ],
      "metadata": {
        "id": "HVky7kFpGMwe"
      },
      "execution_count": null,
      "outputs": []
    },
    {
      "cell_type": "code",
      "source": [
        "print(df_sinna.count(),df_sinna.mean())  #describimos los datos de nuestra nueva dataframe (numero de valores y media)"
      ],
      "metadata": {
        "id": "XgTeygfkFLOO",
        "colab": {
          "base_uri": "https://localhost:8080/"
        },
        "outputId": "7d833a9e-7cfe-4450-84e2-692b6f5959de"
      },
      "execution_count": null,
      "outputs": [
        {
          "output_type": "stream",
          "name": "stdout",
          "text": [
            "Millas_Por_Galon     392\n",
            "Cilindros            392\n",
            "Pais_Origen          392\n",
            "Peso_En_Libras       392\n",
            "Desplazamiento       392\n",
            "Aceleracion          392\n",
            "Nombre               392\n",
            "Anyo                 392\n",
            "Caballo_De_Fuerza    392\n",
            "dtype: int64 Millas_Por_Galon       23.445918\n",
            "Cilindros               5.471939\n",
            "Pais_Origen             1.576531\n",
            "Peso_En_Libras       2977.584184\n",
            "Desplazamiento        194.411990\n",
            "Aceleracion            15.541327\n",
            "Caballo_De_Fuerza     104.469388\n",
            "dtype: float64\n"
          ]
        },
        {
          "output_type": "stream",
          "name": "stderr",
          "text": [
            "/usr/local/lib/python3.7/dist-packages/ipykernel_launcher.py:1: FutureWarning: Dropping of nuisance columns in DataFrame reductions (with 'numeric_only=None') is deprecated; in a future version this will raise TypeError.  Select only valid columns before calling the reduction.\n",
            "  \"\"\"Entry point for launching an IPython kernel.\n"
          ]
        }
      ]
    },
    {
      "cell_type": "code",
      "source": [
        "df_sin2 = df_sinna.drop_duplicates()   # Borrar los datos duplicados, con una nueva df, sobre ladf sin valores nulos"
      ],
      "metadata": {
        "id": "p1O7lDiAePWz"
      },
      "execution_count": null,
      "outputs": []
    },
    {
      "cell_type": "code",
      "source": [
        "print(df_sin2.count(),df_sin2.mean())       #Imprimimos los datos de la nueva df (numero de valores y media)\n",
        "                                     # Comprobamos si son el mismo numero de valores que sin los datos nulos\n",
        "                                    # (Si si son el mismo numero, quiere decir que no hay valores duplicados)"
      ],
      "metadata": {
        "colab": {
          "base_uri": "https://localhost:8080/"
        },
        "id": "x0uO9lcAfWpm",
        "outputId": "f479b1cf-3f0c-48b8-871b-ad997d944c8e"
      },
      "execution_count": null,
      "outputs": [
        {
          "output_type": "stream",
          "name": "stdout",
          "text": [
            "Millas_Por_Galon     392\n",
            "Cilindros            392\n",
            "Pais_Origen          392\n",
            "Peso_En_Libras       392\n",
            "Desplazamiento       392\n",
            "Aceleracion          392\n",
            "Nombre               392\n",
            "Anyo                 392\n",
            "Caballo_De_Fuerza    392\n",
            "dtype: int64 Millas_Por_Galon       23.445918\n",
            "Cilindros               5.471939\n",
            "Pais_Origen             1.576531\n",
            "Peso_En_Libras       2977.584184\n",
            "Desplazamiento        194.411990\n",
            "Aceleracion            15.541327\n",
            "Caballo_De_Fuerza     104.469388\n",
            "dtype: float64\n"
          ]
        },
        {
          "output_type": "stream",
          "name": "stderr",
          "text": [
            "/usr/local/lib/python3.7/dist-packages/ipykernel_launcher.py:1: FutureWarning: Dropping of nuisance columns in DataFrame reductions (with 'numeric_only=None') is deprecated; in a future version this will raise TypeError.  Select only valid columns before calling the reduction.\n",
            "  \"\"\"Entry point for launching an IPython kernel.\n"
          ]
        }
      ]
    },
    {
      "cell_type": "markdown",
      "source": [
        "### Generar 5 nuevas variables \n",
        "#### Alicando los siguientes criterios con las variables numéricas:\n",
        "\n",
        "1. Log10(var1/var2)\n",
        "2. Sqrt(var1)*exp(var2)/200\n",
        "3. Si var 1 &gt; var 2 → 5, caso contrario 3\n",
        "4. 1/logn(var1/var2)*100\n",
        "5. var2**2/var1"
      ],
      "metadata": {
        "id": "iSeAM-RghzyN"
      }
    },
    {
      "cell_type": "code",
      "source": [
        "df[\"Var1\"] = np.log10(df['Millas_Por_Galon']/df['Cilindros'])  "
      ],
      "metadata": {
        "id": "F7GXxGR1jx6Z"
      },
      "execution_count": 17,
      "outputs": []
    },
    {
      "cell_type": "code",
      "source": [
        "df['Var2'] = np.sqrt(df['Millas_Por_Galon'])*np.exp(df['Cilindros'])/200"
      ],
      "metadata": {
        "id": "ft5dbziPknur"
      },
      "execution_count": 18,
      "outputs": []
    },
    {
      "cell_type": "code",
      "source": [
        "df['Var3'] = np.where(df['Millas_Por_Galon'] > df['Cilindros'], 5, 3)"
      ],
      "metadata": {
        "id": "H008B5vBp4An"
      },
      "execution_count": 19,
      "outputs": []
    },
    {
      "cell_type": "code",
      "source": [
        "df['Var4'] = 1/np.log10((df['Millas_Por_Galon'])/(df['Cilindros']))*100"
      ],
      "metadata": {
        "id": "nbTzX8M5lhsA"
      },
      "execution_count": 20,
      "outputs": []
    },
    {
      "cell_type": "code",
      "source": [
        "df['Var5'] = (df['Millas_Por_Galon'])**2/(df['Cilindros'])"
      ],
      "metadata": {
        "id": "mikBY1f2mU_Z"
      },
      "execution_count": 21,
      "outputs": []
    },
    {
      "cell_type": "code",
      "source": [
        "df.head()"
      ],
      "metadata": {
        "colab": {
          "base_uri": "https://localhost:8080/",
          "height": 206
        },
        "id": "k9WEZxQ6mr-E",
        "outputId": "d15c3777-05f1-464c-ea7b-95600e81e149"
      },
      "execution_count": 22,
      "outputs": [
        {
          "output_type": "execute_result",
          "data": {
            "text/plain": [
              "   Millas_Por_Galon  Cilindros  Pais_Origen  Peso_En_Libras  Desplazamiento  \\\n",
              "0              18.0          8            1            3504           307.0   \n",
              "1              15.0          8            1            3693           350.0   \n",
              "2              18.0          8            1            3436           318.0   \n",
              "3              16.0          8            1            3433           304.0   \n",
              "4              17.0          8            1            3449           302.0   \n",
              "\n",
              "   Aceleracion                     Nombre        Anyo  Caballo_De_Fuerza  \\\n",
              "0         12.0  chevrolet chevelle malibu  01/01/1970              130.0   \n",
              "1         11.5          buick skylark 320  01/01/1970              165.0   \n",
              "2         11.0         plymouth satellite  01/01/1970              150.0   \n",
              "3         12.0              amc rebel sst  01/01/1970              150.0   \n",
              "4         10.5                ford torino  01/01/1970              140.0   \n",
              "\n",
              "       Var1       Var2  Var3        Var4    Var5  \n",
              "0  0.352183  63.235668     5  283.943679  40.500  \n",
              "1  0.273001  57.726003     5  366.298660  28.125  \n",
              "2  0.352183  63.235668     5  283.943679  40.500  \n",
              "3  0.301030  59.619160     5  332.192809  32.000  \n",
              "4  0.327359  61.454023     5  305.475090  36.125  "
            ],
            "text/html": [
              "\n",
              "  <div id=\"df-9d7e7810-5e4a-45eb-9a7e-fa06e3cdee5e\">\n",
              "    <div class=\"colab-df-container\">\n",
              "      <div>\n",
              "<style scoped>\n",
              "    .dataframe tbody tr th:only-of-type {\n",
              "        vertical-align: middle;\n",
              "    }\n",
              "\n",
              "    .dataframe tbody tr th {\n",
              "        vertical-align: top;\n",
              "    }\n",
              "\n",
              "    .dataframe thead th {\n",
              "        text-align: right;\n",
              "    }\n",
              "</style>\n",
              "<table border=\"1\" class=\"dataframe\">\n",
              "  <thead>\n",
              "    <tr style=\"text-align: right;\">\n",
              "      <th></th>\n",
              "      <th>Millas_Por_Galon</th>\n",
              "      <th>Cilindros</th>\n",
              "      <th>Pais_Origen</th>\n",
              "      <th>Peso_En_Libras</th>\n",
              "      <th>Desplazamiento</th>\n",
              "      <th>Aceleracion</th>\n",
              "      <th>Nombre</th>\n",
              "      <th>Anyo</th>\n",
              "      <th>Caballo_De_Fuerza</th>\n",
              "      <th>Var1</th>\n",
              "      <th>Var2</th>\n",
              "      <th>Var3</th>\n",
              "      <th>Var4</th>\n",
              "      <th>Var5</th>\n",
              "    </tr>\n",
              "  </thead>\n",
              "  <tbody>\n",
              "    <tr>\n",
              "      <th>0</th>\n",
              "      <td>18.0</td>\n",
              "      <td>8</td>\n",
              "      <td>1</td>\n",
              "      <td>3504</td>\n",
              "      <td>307.0</td>\n",
              "      <td>12.0</td>\n",
              "      <td>chevrolet chevelle malibu</td>\n",
              "      <td>01/01/1970</td>\n",
              "      <td>130.0</td>\n",
              "      <td>0.352183</td>\n",
              "      <td>63.235668</td>\n",
              "      <td>5</td>\n",
              "      <td>283.943679</td>\n",
              "      <td>40.500</td>\n",
              "    </tr>\n",
              "    <tr>\n",
              "      <th>1</th>\n",
              "      <td>15.0</td>\n",
              "      <td>8</td>\n",
              "      <td>1</td>\n",
              "      <td>3693</td>\n",
              "      <td>350.0</td>\n",
              "      <td>11.5</td>\n",
              "      <td>buick skylark 320</td>\n",
              "      <td>01/01/1970</td>\n",
              "      <td>165.0</td>\n",
              "      <td>0.273001</td>\n",
              "      <td>57.726003</td>\n",
              "      <td>5</td>\n",
              "      <td>366.298660</td>\n",
              "      <td>28.125</td>\n",
              "    </tr>\n",
              "    <tr>\n",
              "      <th>2</th>\n",
              "      <td>18.0</td>\n",
              "      <td>8</td>\n",
              "      <td>1</td>\n",
              "      <td>3436</td>\n",
              "      <td>318.0</td>\n",
              "      <td>11.0</td>\n",
              "      <td>plymouth satellite</td>\n",
              "      <td>01/01/1970</td>\n",
              "      <td>150.0</td>\n",
              "      <td>0.352183</td>\n",
              "      <td>63.235668</td>\n",
              "      <td>5</td>\n",
              "      <td>283.943679</td>\n",
              "      <td>40.500</td>\n",
              "    </tr>\n",
              "    <tr>\n",
              "      <th>3</th>\n",
              "      <td>16.0</td>\n",
              "      <td>8</td>\n",
              "      <td>1</td>\n",
              "      <td>3433</td>\n",
              "      <td>304.0</td>\n",
              "      <td>12.0</td>\n",
              "      <td>amc rebel sst</td>\n",
              "      <td>01/01/1970</td>\n",
              "      <td>150.0</td>\n",
              "      <td>0.301030</td>\n",
              "      <td>59.619160</td>\n",
              "      <td>5</td>\n",
              "      <td>332.192809</td>\n",
              "      <td>32.000</td>\n",
              "    </tr>\n",
              "    <tr>\n",
              "      <th>4</th>\n",
              "      <td>17.0</td>\n",
              "      <td>8</td>\n",
              "      <td>1</td>\n",
              "      <td>3449</td>\n",
              "      <td>302.0</td>\n",
              "      <td>10.5</td>\n",
              "      <td>ford torino</td>\n",
              "      <td>01/01/1970</td>\n",
              "      <td>140.0</td>\n",
              "      <td>0.327359</td>\n",
              "      <td>61.454023</td>\n",
              "      <td>5</td>\n",
              "      <td>305.475090</td>\n",
              "      <td>36.125</td>\n",
              "    </tr>\n",
              "  </tbody>\n",
              "</table>\n",
              "</div>\n",
              "      <button class=\"colab-df-convert\" onclick=\"convertToInteractive('df-9d7e7810-5e4a-45eb-9a7e-fa06e3cdee5e')\"\n",
              "              title=\"Convert this dataframe to an interactive table.\"\n",
              "              style=\"display:none;\">\n",
              "        \n",
              "  <svg xmlns=\"http://www.w3.org/2000/svg\" height=\"24px\"viewBox=\"0 0 24 24\"\n",
              "       width=\"24px\">\n",
              "    <path d=\"M0 0h24v24H0V0z\" fill=\"none\"/>\n",
              "    <path d=\"M18.56 5.44l.94 2.06.94-2.06 2.06-.94-2.06-.94-.94-2.06-.94 2.06-2.06.94zm-11 1L8.5 8.5l.94-2.06 2.06-.94-2.06-.94L8.5 2.5l-.94 2.06-2.06.94zm10 10l.94 2.06.94-2.06 2.06-.94-2.06-.94-.94-2.06-.94 2.06-2.06.94z\"/><path d=\"M17.41 7.96l-1.37-1.37c-.4-.4-.92-.59-1.43-.59-.52 0-1.04.2-1.43.59L10.3 9.45l-7.72 7.72c-.78.78-.78 2.05 0 2.83L4 21.41c.39.39.9.59 1.41.59.51 0 1.02-.2 1.41-.59l7.78-7.78 2.81-2.81c.8-.78.8-2.07 0-2.86zM5.41 20L4 18.59l7.72-7.72 1.47 1.35L5.41 20z\"/>\n",
              "  </svg>\n",
              "      </button>\n",
              "      \n",
              "  <style>\n",
              "    .colab-df-container {\n",
              "      display:flex;\n",
              "      flex-wrap:wrap;\n",
              "      gap: 12px;\n",
              "    }\n",
              "\n",
              "    .colab-df-convert {\n",
              "      background-color: #E8F0FE;\n",
              "      border: none;\n",
              "      border-radius: 50%;\n",
              "      cursor: pointer;\n",
              "      display: none;\n",
              "      fill: #1967D2;\n",
              "      height: 32px;\n",
              "      padding: 0 0 0 0;\n",
              "      width: 32px;\n",
              "    }\n",
              "\n",
              "    .colab-df-convert:hover {\n",
              "      background-color: #E2EBFA;\n",
              "      box-shadow: 0px 1px 2px rgba(60, 64, 67, 0.3), 0px 1px 3px 1px rgba(60, 64, 67, 0.15);\n",
              "      fill: #174EA6;\n",
              "    }\n",
              "\n",
              "    [theme=dark] .colab-df-convert {\n",
              "      background-color: #3B4455;\n",
              "      fill: #D2E3FC;\n",
              "    }\n",
              "\n",
              "    [theme=dark] .colab-df-convert:hover {\n",
              "      background-color: #434B5C;\n",
              "      box-shadow: 0px 1px 3px 1px rgba(0, 0, 0, 0.15);\n",
              "      filter: drop-shadow(0px 1px 2px rgba(0, 0, 0, 0.3));\n",
              "      fill: #FFFFFF;\n",
              "    }\n",
              "  </style>\n",
              "\n",
              "      <script>\n",
              "        const buttonEl =\n",
              "          document.querySelector('#df-9d7e7810-5e4a-45eb-9a7e-fa06e3cdee5e button.colab-df-convert');\n",
              "        buttonEl.style.display =\n",
              "          google.colab.kernel.accessAllowed ? 'block' : 'none';\n",
              "\n",
              "        async function convertToInteractive(key) {\n",
              "          const element = document.querySelector('#df-9d7e7810-5e4a-45eb-9a7e-fa06e3cdee5e');\n",
              "          const dataTable =\n",
              "            await google.colab.kernel.invokeFunction('convertToInteractive',\n",
              "                                                     [key], {});\n",
              "          if (!dataTable) return;\n",
              "\n",
              "          const docLinkHtml = 'Like what you see? Visit the ' +\n",
              "            '<a target=\"_blank\" href=https://colab.research.google.com/notebooks/data_table.ipynb>data table notebook</a>'\n",
              "            + ' to learn more about interactive tables.';\n",
              "          element.innerHTML = '';\n",
              "          dataTable['output_type'] = 'display_data';\n",
              "          await google.colab.output.renderOutput(dataTable, element);\n",
              "          const docLink = document.createElement('div');\n",
              "          docLink.innerHTML = docLinkHtml;\n",
              "          element.appendChild(docLink);\n",
              "        }\n",
              "      </script>\n",
              "    </div>\n",
              "  </div>\n",
              "  "
            ]
          },
          "metadata": {},
          "execution_count": 22
        }
      ]
    },
    {
      "cell_type": "markdown",
      "source": [
        "### Generar 3 variables cualitativas ordinales\n",
        "#### A partir de las variables numéricas con los siguientes criterios:\n",
        "★ Si es mayor a la “media + 1*desviación estándar” →\n",
        "Alto\n",
        "\n",
        "★ Si está entre “media - 1*desviación estándar” y\n",
        "“media + 1*desviación estándar” → Medio\n",
        "\n",
        "★ Si es menor a la “media - 1*desviación estándar” →\n",
        "Bajo\n",
        "Nota: Mostrar con las nuevas variables generadas.\n",
        "Elegir con libertad las variables a trabajar."
      ],
      "metadata": {
        "id": "R3D1j_gkuYUD"
      }
    },
    {
      "cell_type": "code",
      "source": [],
      "metadata": {
        "id": "QpkuTsKEuvWT"
      },
      "execution_count": null,
      "outputs": []
    },
    {
      "cell_type": "code",
      "source": [],
      "metadata": {
        "id": "-NJosB0yunSd"
      },
      "execution_count": null,
      "outputs": []
    },
    {
      "cell_type": "markdown",
      "source": [
        "###Crear una función (Graficos)\n",
        "####Que muestre los siguientes gráficos para las variables numéricas según una variable cualitativa:\n",
        "\n",
        "❖ Cajas y bigotes\n",
        "\n",
        "❖ Barras de la media\n",
        "\n",
        "❖ Histograma con Curva"
      ],
      "metadata": {
        "id": "pg0QkXv0vFDi"
      }
    },
    {
      "cell_type": "code",
      "source": [
        "#Histograma \n",
        "\n",
        "## y = número de autos que gastan ese número de millas por galon\n",
        "## x = número de millas por galon gastadas por un auto\n",
        "df['Millas_Por_Galon'].hist()\n",
        "#Inclinada a la izquierda"
      ],
      "metadata": {
        "id": "Bf8thhmyvHXS",
        "colab": {
          "base_uri": "https://localhost:8080/",
          "height": 282
        },
        "outputId": "6c08b5eb-501d-4a09-a5ce-20b2b763491a"
      },
      "execution_count": 12,
      "outputs": [
        {
          "output_type": "execute_result",
          "data": {
            "text/plain": [
              "<matplotlib.axes._subplots.AxesSubplot at 0x7fd4736c7ed0>"
            ]
          },
          "metadata": {},
          "execution_count": 12
        },
        {
          "output_type": "display_data",
          "data": {
            "text/plain": [
              "<Figure size 432x288 with 1 Axes>"
            ],
            "image/png": "[encoded data removed]"
          },
          "metadata": {
            "needs_background": "light"
          }
        }
      ]
    },
    {
      "cell_type": "code",
      "source": [
        "#Histograma con curva\n",
        "sb.distplot(df['Millas_Por_Galon'])"
      ],
      "metadata": {
        "colab": {
          "base_uri": "https://localhost:8080/",
          "height": 352
        },
        "id": "tVrI8SyH67I4",
        "outputId": "847e5545-9b96-45dd-c6e8-868512696101"
      },
      "execution_count": 23,
      "outputs": [
        {
          "output_type": "stream",
          "name": "stderr",
          "text": [
            "/usr/local/lib/python3.7/dist-packages/seaborn/distributions.py:2619: FutureWarning: `distplot` is a deprecated function and will be removed in a future version. Please adapt your code to use either `displot` (a figure-level function with similar flexibility) or `histplot` (an axes-level function for histograms).\n",
            "  warnings.warn(msg, FutureWarning)\n"
          ]
        },
        {
          "output_type": "execute_result",
          "data": {
            "text/plain": [
              "<matplotlib.axes._subplots.AxesSubplot at 0x7fd465f1e950>"
            ]
          },
          "metadata": {},
          "execution_count": 23
        },
        {
          "output_type": "display_data",
          "data": {
            "text/plain": [
              "<Figure size 432x288 with 1 Axes>"
            ],
            "image/png": "[encoded data removed]"
          },
          "metadata": {
            "needs_background": "light"
          }
        }
      ]
    },
    {
      "cell_type": "code",
      "source": [
        "#Histograma \n",
        "\n",
        "\n",
        "## y = número de autos que tienen esa aceleración\n",
        "## x = Aceleracion de un carro\n",
        "df['Aceleracion'].hist()\n",
        "\n",
        "\n",
        "#Tiene forma de campana"
      ],
      "metadata": {
        "colab": {
          "base_uri": "https://localhost:8080/",
          "height": 282
        },
        "id": "CHr5CI1m7LIg",
        "outputId": "01be6e80-655e-496b-f46e-5807bb9c0a26"
      },
      "execution_count": 24,
      "outputs": [
        {
          "output_type": "execute_result",
          "data": {
            "text/plain": [
              "<matplotlib.axes._subplots.AxesSubplot at 0x7fd465d9af10>"
            ]
          },
          "metadata": {},
          "execution_count": 24
        },
        {
          "output_type": "display_data",
          "data": {
            "text/plain": [
              "<Figure size 432x288 with 1 Axes>"
            ],
            "image/png": "[encoded data removed]"
          },
          "metadata": {
            "needs_background": "light"
          }
        }
      ]
    },
    {
      "cell_type": "code",
      "source": [
        "#Histograma \n",
        "\n",
        "\n",
        "## y = número de autos que tienen esos caballos de fuerza\n",
        "## x = Caballos de fuerza de un carro\n",
        "df['Caballo_De_Fuerza'].hist()\n",
        "\n",
        "#Tiene forma inclinada a la izq, la mayoría de los datos caen entre 75 y 100"
      ],
      "metadata": {
        "colab": {
          "base_uri": "https://localhost:8080/",
          "height": 282
        },
        "id": "ZTtthh7K7NJY",
        "outputId": "da9beecf-02d1-42e1-dc4d-32c68020de42"
      },
      "execution_count": 25,
      "outputs": [
        {
          "output_type": "execute_result",
          "data": {
            "text/plain": [
              "<matplotlib.axes._subplots.AxesSubplot at 0x7fd465cbb190>"
            ]
          },
          "metadata": {},
          "execution_count": 25
        },
        {
          "output_type": "display_data",
          "data": {
            "text/plain": [
              "<Figure size 432x288 with 1 Axes>"
            ],
            "image/png": "[encoded data removed]"
          },
          "metadata": {
            "needs_background": "light"
          }
        }
      ]
    },
    {
      "cell_type": "code",
      "source": [
        "#Histograma con curva\n",
        "sb.distplot(df['Caballo_De_Fuerza'])"
      ],
      "metadata": {
        "colab": {
          "base_uri": "https://localhost:8080/",
          "height": 352
        },
        "id": "VSLAEf1s7RCY",
        "outputId": "9c4b5b25-43cf-489e-f134-f9e8ab734593"
      },
      "execution_count": 26,
      "outputs": [
        {
          "output_type": "stream",
          "name": "stderr",
          "text": [
            "/usr/local/lib/python3.7/dist-packages/seaborn/distributions.py:2619: FutureWarning: `distplot` is a deprecated function and will be removed in a future version. Please adapt your code to use either `displot` (a figure-level function with similar flexibility) or `histplot` (an axes-level function for histograms).\n",
            "  warnings.warn(msg, FutureWarning)\n"
          ]
        },
        {
          "output_type": "execute_result",
          "data": {
            "text/plain": [
              "<matplotlib.axes._subplots.AxesSubplot at 0x7fd465c53390>"
            ]
          },
          "metadata": {},
          "execution_count": 26
        },
        {
          "output_type": "display_data",
          "data": {
            "text/plain": [
              "<Figure size 432x288 with 1 Axes>"
            ],
            "image/png": "[encoded data removed]"
          },
          "metadata": {
            "needs_background": "light"
          }
        }
      ]
    },
    {
      "cell_type": "code",
      "source": [
        "#Histograma\n",
        "\n",
        "\n",
        "## y = número de autos con cierto Desplazamiento\n",
        "## x = Desplazamiento de un carro\n",
        "df['Desplazamiento'].hist()\n",
        "\n",
        "#anormal no es una distribuccion gausina o de campana"
      ],
      "metadata": {
        "colab": {
          "base_uri": "https://localhost:8080/",
          "height": 282
        },
        "id": "sTJmn5kM7U16",
        "outputId": "f876e058-4bf2-422e-c0ab-09139f54ddb7"
      },
      "execution_count": 28,
      "outputs": [
        {
          "output_type": "execute_result",
          "data": {
            "text/plain": [
              "<matplotlib.axes._subplots.AxesSubplot at 0x7fd465b7f3d0>"
            ]
          },
          "metadata": {},
          "execution_count": 28
        },
        {
          "output_type": "display_data",
          "data": {
            "text/plain": [
              "<Figure size 432x288 with 1 Axes>"
            ],
            "image/png": "[encoded data removed]"
          },
          "metadata": {
            "needs_background": "light"
          }
        }
      ]
    },
    {
      "cell_type": "code",
      "source": [
        "#Histograma con curva\n",
        "sb.distplot(df['Desplazamiento'])"
      ],
      "metadata": {
        "colab": {
          "base_uri": "https://localhost:8080/",
          "height": 352
        },
        "id": "Y31Zp7sV7YmA",
        "outputId": "09ae6cfd-8ace-45c1-b384-f1c0d9c22deb"
      },
      "execution_count": 29,
      "outputs": [
        {
          "output_type": "stream",
          "name": "stderr",
          "text": [
            "/usr/local/lib/python3.7/dist-packages/seaborn/distributions.py:2619: FutureWarning: `distplot` is a deprecated function and will be removed in a future version. Please adapt your code to use either `displot` (a figure-level function with similar flexibility) or `histplot` (an axes-level function for histograms).\n",
            "  warnings.warn(msg, FutureWarning)\n"
          ]
        },
        {
          "output_type": "execute_result",
          "data": {
            "text/plain": [
              "<matplotlib.axes._subplots.AxesSubplot at 0x7fd465ae5850>"
            ]
          },
          "metadata": {},
          "execution_count": 29
        },
        {
          "output_type": "display_data",
          "data": {
            "text/plain": [
              "<Figure size 432x288 with 1 Axes>"
            ],
            "image/png": "[encoded data removed]"
          },
          "metadata": {
            "needs_background": "light"
          }
        }
      ]
    },
    {
      "cell_type": "code",
      "source": [
        "#BOXPLOT\n",
        "\n",
        "#Abajo vemos cómo con Boxplot (o diagrama de cajas) podemos observar los valores atípicos rápidamente. \n",
        "sb.boxplot(data=df)\n",
        "\n",
        "#En las últimas dos variables hay algunos datos que salen de las cajas"
      ],
      "metadata": {
        "colab": {
          "base_uri": "https://localhost:8080/",
          "height": 283
        },
        "id": "M70CtK9Z7dgy",
        "outputId": "88fbf39c-ccfe-4705-fa60-0ecde06177f4"
      },
      "execution_count": 32,
      "outputs": [
        {
          "output_type": "execute_result",
          "data": {
            "text/plain": [
              "<matplotlib.axes._subplots.AxesSubplot at 0x7fd4658bd150>"
            ]
          },
          "metadata": {},
          "execution_count": 32
        },
        {
          "output_type": "display_data",
          "data": {
            "text/plain": [
              "<Figure size 432x288 with 1 Axes>"
            ],
            "image/png": "[encoded data removed]"
          },
          "metadata": {
            "needs_background": "light"
          }
        }
      ]
    },
    {
      "cell_type": "code",
      "source": [
        "sb.boxplot(x = df['Caballo_De_Fuerza'])\n",
        "#No vale la pena cortar los outliers porque no se alejan tanto del 3er cuartil, por lo que podría ser una medición verdadera"
      ],
      "metadata": {
        "colab": {
          "base_uri": "https://localhost:8080/",
          "height": 297
        },
        "id": "ike79HGd7l44",
        "outputId": "76c0b489-75b7-40d0-a263-f41371507578"
      },
      "execution_count": 33,
      "outputs": [
        {
          "output_type": "execute_result",
          "data": {
            "text/plain": [
              "<matplotlib.axes._subplots.AxesSubplot at 0x7fd4656ea410>"
            ]
          },
          "metadata": {},
          "execution_count": 33
        },
        {
          "output_type": "display_data",
          "data": {
            "text/plain": [
              "<Figure size 432x288 with 1 Axes>"
            ],
            "image/png": "[encoded data removed]"
          },
          "metadata": {
            "needs_background": "light"
          }
        }
      ]
    },
    {
      "cell_type": "code",
      "source": [
        "sb.boxplot(x = df['Aceleracion'])\n",
        "#No vale la pena cortar los outliers porque no se alejan tanto del 3er cuartil, por lo que podría ser una medición verdadera"
      ],
      "metadata": {
        "colab": {
          "base_uri": "https://localhost:8080/",
          "height": 296
        },
        "id": "vySO1B8M7pUg",
        "outputId": "87d7cbaf-f67b-4988-93ef-2c43a3492ccb"
      },
      "execution_count": 34,
      "outputs": [
        {
          "output_type": "execute_result",
          "data": {
            "text/plain": [
              "<matplotlib.axes._subplots.AxesSubplot at 0x7fd465a7a590>"
            ]
          },
          "metadata": {},
          "execution_count": 34
        },
        {
          "output_type": "display_data",
          "data": {
            "text/plain": [
              "<Figure size 432x288 with 1 Axes>"
            ],
            "image/png": "[encoded data removed]"
          },
          "metadata": {
            "needs_background": "light"
          }
        }
      ]
    },
    {
      "cell_type": "code",
      "source": [
        "#En dado caso de que cortáramos los outliers se haría de esta manera\n",
        "\n",
        "#corte_inferior = 200 #valor asignado\n",
        "#corte_superior = df['Variable'].quantile(0.75)\n",
        "#df = df[(df['Variable'] < corte_superior) & (df['Variable'] > corte_inferior)]\n",
        "\n",
        "#Pero no correré estas líneas, las dejaré escritas para futuras referencias\n",
        "#Habrá que visualizar nuevamente las variables para ver como se comportan después de retirar los outliers"
      ],
      "metadata": {
        "id": "ak4ypfKW7sQI"
      },
      "execution_count": null,
      "outputs": []
    },
    {
      "cell_type": "code",
      "source": [
        "#Visualización de las variables No numéricas\n",
        "df['Pais_Origen'].value_counts().plot(kind='bar', figsize=(20,5))\n",
        "plt.title('Paises de origen de los autos')\n",
        "plt.ylabel('Conteo')\n",
        "plt.xlabel('Paises');"
      ],
      "metadata": {
        "colab": {
          "base_uri": "https://localhost:8080/",
          "height": 346
        },
        "id": "gTEbojYA7uti",
        "outputId": "713eee0e-7b2a-4782-942f-c5e3741962db"
      },
      "execution_count": 35,
      "outputs": [
        {
          "output_type": "display_data",
          "data": {
            "text/plain": [
              "<Figure size 1440x360 with 1 Axes>"
            ],
            "image/png": "[encoded data removed]"
          },
          "metadata": {
            "needs_background": "light"
          }
        }
      ]
    },
    {
      "cell_type": "code",
      "source": [
        "#Visualización de las variables No numéricas\n",
        "df['Nombre'].value_counts().plot(kind='bar', figsize=(50,5))\n",
        "plt.title('Autos')\n",
        "plt.ylabel('Conteo')\n",
        "plt.xlabel('Autos'),\n",
        "\n",
        "#Vemos que cada usuario escribió el nombre que quiso al momento de registrar el nombre de sus vehículos, \n",
        "#por lo que no vale la pena tomar esta variable por el momento para hacer mediciones, ya que hay datos distintos para cada registro"
      ],
      "metadata": {
        "colab": {
          "base_uri": "https://localhost:8080/",
          "height": 304
        },
        "id": "W4vfnMGi70a0",
        "outputId": "4758d8ce-af1f-4c91-a890-e3c3af7d40e8"
      },
      "execution_count": 37,
      "outputs": [
        {
          "output_type": "execute_result",
          "data": {
            "text/plain": [
              "(Text(0.5, 0, 'Autos'),)"
            ]
          },
          "metadata": {},
          "execution_count": 37
        },
        {
          "output_type": "display_data",
          "data": {
            "text/plain": [
              "<Figure size 3600x360 with 1 Axes>"
            ],
            "image/png": "[encoded data removed]"
          },
          "metadata": {
            "needs_background": "light"
          }
        }
      ]
    },
    {
      "cell_type": "markdown",
      "source": [
        "###Crear una función (Mapa)\n",
        "####Que devuelva un mapa de calor con la correlación de todas las variables numéricas (incluye las generadas), para cada país."
      ],
      "metadata": {
        "id": "UGBMBxY0vbip"
      }
    },
    {
      "cell_type": "code",
      "source": [
        "#Correlaciones y mapa de calor\n",
        "correlaciones= df.corr()\n",
        "sb.heatmap(correlaciones)\n",
        "correlaciones"
      ],
      "metadata": {
        "id": "H4tL2LCcviWw",
        "colab": {
          "base_uri": "https://localhost:8080/",
          "height": 762
        },
        "outputId": "1fc6ad71-7464-43d1-f11c-15cad28c7592"
      },
      "execution_count": 38,
      "outputs": [
        {
          "output_type": "execute_result",
          "data": {
            "text/plain": [
              "                   Millas_Por_Galon  Cilindros  Pais_Origen  Peso_En_Libras  \\\n",
              "Millas_Por_Galon           1.000000  -0.775396     0.563450       -0.831741   \n",
              "Cilindros                 -0.775396   1.000000    -0.567478        0.895220   \n",
              "Pais_Origen                0.563450  -0.567478     1.000000       -0.584109   \n",
              "Peso_En_Libras            -0.831741   0.895220    -0.584109        1.000000   \n",
              "Desplazamiento            -0.804203   0.951787    -0.613056        0.932475   \n",
              "Aceleracion                0.420289  -0.522452     0.218845       -0.430086   \n",
              "Caballo_De_Fuerza         -0.778427   0.844158    -0.460033        0.866586   \n",
              "Var1                       0.927903  -0.949292     0.593720       -0.924613   \n",
              "Var2                      -0.666935   0.929485    -0.463196        0.818996   \n",
              "Var3                            NaN  -0.084950     0.034526       -0.074949   \n",
              "Var4                      -0.690905   0.749017    -0.404548        0.761793   \n",
              "Var5                       0.976910  -0.766973     0.579119       -0.797588   \n",
              "\n",
              "                   Desplazamiento  Aceleracion  Caballo_De_Fuerza      Var1  \\\n",
              "Millas_Por_Galon        -0.804203     0.420289          -0.778427  0.927903   \n",
              "Cilindros                0.951787    -0.522452           0.844158 -0.949292   \n",
              "Pais_Origen             -0.613056     0.218845          -0.460033  0.593720   \n",
              "Peso_En_Libras           0.932475    -0.430086           0.866586 -0.924613   \n",
              "Desplazamiento           1.000000    -0.557984           0.898326 -0.938662   \n",
              "Aceleracion             -0.557984     1.000000          -0.697124  0.483596   \n",
              "Caballo_De_Fuerza        0.898326    -0.697124           1.000000 -0.865232   \n",
              "Var1                    -0.938662     0.483596          -0.865232  1.000000   \n",
              "Var2                     0.887179    -0.545386           0.826476 -0.843641   \n",
              "Var3                    -0.091113     0.121891          -0.110841       NaN   \n",
              "Var4                     0.747779    -0.394691           0.782114 -0.795352   \n",
              "Var5                    -0.776834     0.393364          -0.726470  0.900841   \n",
              "\n",
              "                       Var2      Var3      Var4      Var5  \n",
              "Millas_Por_Galon  -0.666935       NaN -0.690905  0.976910  \n",
              "Cilindros          0.929485 -0.084950  0.749017 -0.766973  \n",
              "Pais_Origen       -0.463196  0.034526 -0.404548  0.579119  \n",
              "Peso_En_Libras     0.818996 -0.074949  0.761793 -0.797588  \n",
              "Desplazamiento     0.887179 -0.091113  0.747779 -0.776834  \n",
              "Aceleracion       -0.545386  0.121891 -0.394691  0.393364  \n",
              "Caballo_De_Fuerza  0.826476 -0.110841  0.782114 -0.726470  \n",
              "Var1              -0.843641       NaN -0.795352  0.900841  \n",
              "Var2               1.000000       NaN  0.708746 -0.637785  \n",
              "Var3                    NaN  1.000000       NaN       NaN  \n",
              "Var4               0.708746       NaN  1.000000 -0.599799  \n",
              "Var5              -0.637785       NaN -0.599799  1.000000  "
            ],
            "text/html": [
              "\n",
              "  <div id=\"df-4505be30-bf74-49bb-9776-c5d48e9372c2\">\n",
              "    <div class=\"colab-df-container\">\n",
              "      <div>\n",
              "<style scoped>\n",
              "    .dataframe tbody tr th:only-of-type {\n",
              "        vertical-align: middle;\n",
              "    }\n",
              "\n",
              "    .dataframe tbody tr th {\n",
              "        vertical-align: top;\n",
              "    }\n",
              "\n",
              "    .dataframe thead th {\n",
              "        text-align: right;\n",
              "    }\n",
              "</style>\n",
              "<table border=\"1\" class=\"dataframe\">\n",
              "  <thead>\n",
              "    <tr style=\"text-align: right;\">\n",
              "      <th></th>\n",
              "      <th>Millas_Por_Galon</th>\n",
              "      <th>Cilindros</th>\n",
              "      <th>Pais_Origen</th>\n",
              "      <th>Peso_En_Libras</th>\n",
              "      <th>Desplazamiento</th>\n",
              "      <th>Aceleracion</th>\n",
              "      <th>Caballo_De_Fuerza</th>\n",
              "      <th>Var1</th>\n",
              "      <th>Var2</th>\n",
              "      <th>Var3</th>\n",
              "      <th>Var4</th>\n",
              "      <th>Var5</th>\n",
              "    </tr>\n",
              "  </thead>\n",
              "  <tbody>\n",
              "    <tr>\n",
              "      <th>Millas_Por_Galon</th>\n",
              "      <td>1.000000</td>\n",
              "      <td>-0.775396</td>\n",
              "      <td>0.563450</td>\n",
              "      <td>-0.831741</td>\n",
              "      <td>-0.804203</td>\n",
              "      <td>0.420289</td>\n",
              "      <td>-0.778427</td>\n",
              "      <td>0.927903</td>\n",
              "      <td>-0.666935</td>\n",
              "      <td>NaN</td>\n",
              "      <td>-0.690905</td>\n",
              "      <td>0.976910</td>\n",
              "    </tr>\n",
              "    <tr>\n",
              "      <th>Cilindros</th>\n",
              "      <td>-0.775396</td>\n",
              "      <td>1.000000</td>\n",
              "      <td>-0.567478</td>\n",
              "      <td>0.895220</td>\n",
              "      <td>0.951787</td>\n",
              "      <td>-0.522452</td>\n",
              "      <td>0.844158</td>\n",
              "      <td>-0.949292</td>\n",
              "      <td>0.929485</td>\n",
              "      <td>-0.084950</td>\n",
              "      <td>0.749017</td>\n",
              "      <td>-0.766973</td>\n",
              "    </tr>\n",
              "    <tr>\n",
              "      <th>Pais_Origen</th>\n",
              "      <td>0.563450</td>\n",
              "      <td>-0.567478</td>\n",
              "      <td>1.000000</td>\n",
              "      <td>-0.584109</td>\n",
              "      <td>-0.613056</td>\n",
              "      <td>0.218845</td>\n",
              "      <td>-0.460033</td>\n",
              "      <td>0.593720</td>\n",
              "      <td>-0.463196</td>\n",
              "      <td>0.034526</td>\n",
              "      <td>-0.404548</td>\n",
              "      <td>0.579119</td>\n",
              "    </tr>\n",
              "    <tr>\n",
              "      <th>Peso_En_Libras</th>\n",
              "      <td>-0.831741</td>\n",
              "      <td>0.895220</td>\n",
              "      <td>-0.584109</td>\n",
              "      <td>1.000000</td>\n",
              "      <td>0.932475</td>\n",
              "      <td>-0.430086</td>\n",
              "      <td>0.866586</td>\n",
              "      <td>-0.924613</td>\n",
              "      <td>0.818996</td>\n",
              "      <td>-0.074949</td>\n",
              "      <td>0.761793</td>\n",
              "      <td>-0.797588</td>\n",
              "    </tr>\n",
              "    <tr>\n",
              "      <th>Desplazamiento</th>\n",
              "      <td>-0.804203</td>\n",
              "      <td>0.951787</td>\n",
              "      <td>-0.613056</td>\n",
              "      <td>0.932475</td>\n",
              "      <td>1.000000</td>\n",
              "      <td>-0.557984</td>\n",
              "      <td>0.898326</td>\n",
              "      <td>-0.938662</td>\n",
              "      <td>0.887179</td>\n",
              "      <td>-0.091113</td>\n",
              "      <td>0.747779</td>\n",
              "      <td>-0.776834</td>\n",
              "    </tr>\n",
              "    <tr>\n",
              "      <th>Aceleracion</th>\n",
              "      <td>0.420289</td>\n",
              "      <td>-0.522452</td>\n",
              "      <td>0.218845</td>\n",
              "      <td>-0.430086</td>\n",
              "      <td>-0.557984</td>\n",
              "      <td>1.000000</td>\n",
              "      <td>-0.697124</td>\n",
              "      <td>0.483596</td>\n",
              "      <td>-0.545386</td>\n",
              "      <td>0.121891</td>\n",
              "      <td>-0.394691</td>\n",
              "      <td>0.393364</td>\n",
              "    </tr>\n",
              "    <tr>\n",
              "      <th>Caballo_De_Fuerza</th>\n",
              "      <td>-0.778427</td>\n",
              "      <td>0.844158</td>\n",
              "      <td>-0.460033</td>\n",
              "      <td>0.866586</td>\n",
              "      <td>0.898326</td>\n",
              "      <td>-0.697124</td>\n",
              "      <td>1.000000</td>\n",
              "      <td>-0.865232</td>\n",
              "      <td>0.826476</td>\n",
              "      <td>-0.110841</td>\n",
              "      <td>0.782114</td>\n",
              "      <td>-0.726470</td>\n",
              "    </tr>\n",
              "    <tr>\n",
              "      <th>Var1</th>\n",
              "      <td>0.927903</td>\n",
              "      <td>-0.949292</td>\n",
              "      <td>0.593720</td>\n",
              "      <td>-0.924613</td>\n",
              "      <td>-0.938662</td>\n",
              "      <td>0.483596</td>\n",
              "      <td>-0.865232</td>\n",
              "      <td>1.000000</td>\n",
              "      <td>-0.843641</td>\n",
              "      <td>NaN</td>\n",
              "      <td>-0.795352</td>\n",
              "      <td>0.900841</td>\n",
              "    </tr>\n",
              "    <tr>\n",
              "      <th>Var2</th>\n",
              "      <td>-0.666935</td>\n",
              "      <td>0.929485</td>\n",
              "      <td>-0.463196</td>\n",
              "      <td>0.818996</td>\n",
              "      <td>0.887179</td>\n",
              "      <td>-0.545386</td>\n",
              "      <td>0.826476</td>\n",
              "      <td>-0.843641</td>\n",
              "      <td>1.000000</td>\n",
              "      <td>NaN</td>\n",
              "      <td>0.708746</td>\n",
              "      <td>-0.637785</td>\n",
              "    </tr>\n",
              "    <tr>\n",
              "      <th>Var3</th>\n",
              "      <td>NaN</td>\n",
              "      <td>-0.084950</td>\n",
              "      <td>0.034526</td>\n",
              "      <td>-0.074949</td>\n",
              "      <td>-0.091113</td>\n",
              "      <td>0.121891</td>\n",
              "      <td>-0.110841</td>\n",
              "      <td>NaN</td>\n",
              "      <td>NaN</td>\n",
              "      <td>1.000000</td>\n",
              "      <td>NaN</td>\n",
              "      <td>NaN</td>\n",
              "    </tr>\n",
              "    <tr>\n",
              "      <th>Var4</th>\n",
              "      <td>-0.690905</td>\n",
              "      <td>0.749017</td>\n",
              "      <td>-0.404548</td>\n",
              "      <td>0.761793</td>\n",
              "      <td>0.747779</td>\n",
              "      <td>-0.394691</td>\n",
              "      <td>0.782114</td>\n",
              "      <td>-0.795352</td>\n",
              "      <td>0.708746</td>\n",
              "      <td>NaN</td>\n",
              "      <td>1.000000</td>\n",
              "      <td>-0.599799</td>\n",
              "    </tr>\n",
              "    <tr>\n",
              "      <th>Var5</th>\n",
              "      <td>0.976910</td>\n",
              "      <td>-0.766973</td>\n",
              "      <td>0.579119</td>\n",
              "      <td>-0.797588</td>\n",
              "      <td>-0.776834</td>\n",
              "      <td>0.393364</td>\n",
              "      <td>-0.726470</td>\n",
              "      <td>0.900841</td>\n",
              "      <td>-0.637785</td>\n",
              "      <td>NaN</td>\n",
              "      <td>-0.599799</td>\n",
              "      <td>1.000000</td>\n",
              "    </tr>\n",
              "  </tbody>\n",
              "</table>\n",
              "</div>\n",
              "      <button class=\"colab-df-convert\" onclick=\"convertToInteractive('df-4505be30-bf74-49bb-9776-c5d48e9372c2')\"\n",
              "              title=\"Convert this dataframe to an interactive table.\"\n",
              "              style=\"display:none;\">\n",
              "        \n",
              "  <svg xmlns=\"http://www.w3.org/2000/svg\" height=\"24px\"viewBox=\"0 0 24 24\"\n",
              "       width=\"24px\">\n",
              "    <path d=\"M0 0h24v24H0V0z\" fill=\"none\"/>\n",
              "    <path d=\"M18.56 5.44l.94 2.06.94-2.06 2.06-.94-2.06-.94-.94-2.06-.94 2.06-2.06.94zm-11 1L8.5 8.5l.94-2.06 2.06-.94-2.06-.94L8.5 2.5l-.94 2.06-2.06.94zm10 10l.94 2.06.94-2.06 2.06-.94-2.06-.94-.94-2.06-.94 2.06-2.06.94z\"/><path d=\"M17.41 7.96l-1.37-1.37c-.4-.4-.92-.59-1.43-.59-.52 0-1.04.2-1.43.59L10.3 9.45l-7.72 7.72c-.78.78-.78 2.05 0 2.83L4 21.41c.39.39.9.59 1.41.59.51 0 1.02-.2 1.41-.59l7.78-7.78 2.81-2.81c.8-.78.8-2.07 0-2.86zM5.41 20L4 18.59l7.72-7.72 1.47 1.35L5.41 20z\"/>\n",
              "  </svg>\n",
              "      </button>\n",
              "      \n",
              "  <style>\n",
              "    .colab-df-container {\n",
              "      display:flex;\n",
              "      flex-wrap:wrap;\n",
              "      gap: 12px;\n",
              "    }\n",
              "\n",
              "    .colab-df-convert {\n",
              "      background-color: #E8F0FE;\n",
              "      border: none;\n",
              "      border-radius: 50%;\n",
              "      cursor: pointer;\n",
              "      display: none;\n",
              "      fill: #1967D2;\n",
              "      height: 32px;\n",
              "      padding: 0 0 0 0;\n",
              "      width: 32px;\n",
              "    }\n",
              "\n",
              "    .colab-df-convert:hover {\n",
              "      background-color: #E2EBFA;\n",
              "      box-shadow: 0px 1px 2px rgba(60, 64, 67, 0.3), 0px 1px 3px 1px rgba(60, 64, 67, 0.15);\n",
              "      fill: #174EA6;\n",
              "    }\n",
              "\n",
              "    [theme=dark] .colab-df-convert {\n",
              "      background-color: #3B4455;\n",
              "      fill: #D2E3FC;\n",
              "    }\n",
              "\n",
              "    [theme=dark] .colab-df-convert:hover {\n",
              "      background-color: #434B5C;\n",
              "      box-shadow: 0px 1px 3px 1px rgba(0, 0, 0, 0.15);\n",
              "      filter: drop-shadow(0px 1px 2px rgba(0, 0, 0, 0.3));\n",
              "      fill: #FFFFFF;\n",
              "    }\n",
              "  </style>\n",
              "\n",
              "      <script>\n",
              "        const buttonEl =\n",
              "          document.querySelector('#df-4505be30-bf74-49bb-9776-c5d48e9372c2 button.colab-df-convert');\n",
              "        buttonEl.style.display =\n",
              "          google.colab.kernel.accessAllowed ? 'block' : 'none';\n",
              "\n",
              "        async function convertToInteractive(key) {\n",
              "          const element = document.querySelector('#df-4505be30-bf74-49bb-9776-c5d48e9372c2');\n",
              "          const dataTable =\n",
              "            await google.colab.kernel.invokeFunction('convertToInteractive',\n",
              "                                                     [key], {});\n",
              "          if (!dataTable) return;\n",
              "\n",
              "          const docLinkHtml = 'Like what you see? Visit the ' +\n",
              "            '<a target=\"_blank\" href=https://colab.research.google.com/notebooks/data_table.ipynb>data table notebook</a>'\n",
              "            + ' to learn more about interactive tables.';\n",
              "          element.innerHTML = '';\n",
              "          dataTable['output_type'] = 'display_data';\n",
              "          await google.colab.output.renderOutput(dataTable, element);\n",
              "          const docLink = document.createElement('div');\n",
              "          docLink.innerHTML = docLinkHtml;\n",
              "          element.appendChild(docLink);\n",
              "        }\n",
              "      </script>\n",
              "    </div>\n",
              "  </div>\n",
              "  "
            ]
          },
          "metadata": {},
          "execution_count": 38
        },
        {
          "output_type": "display_data",
          "data": {
            "text/plain": [
              "<Figure size 432x288 with 2 Axes>"
            ],
            "image/png": "[encoded data removed]"
          },
          "metadata": {
            "needs_background": "light"
          }
        }
      ]
    },
    {
      "cell_type": "code",
      "source": [
        "#Gráficos de dispersión\n",
        "\n",
        "#Escogemos dos variables que hayan tenido una alta correlación\n",
        "fig, ax = plt.subplots(figsize=(10,6))\n",
        "ax.scatter(df['Desplazamiento'], df['Cilindros'])\n",
        "ax.set_xlabel('Desplazamiento')\n",
        "ax.set_ylabel('Cilindros')\n",
        "plt.show()\n",
        "\n",
        "#Alta Correlación, sigue un patrón "
      ],
      "metadata": {
        "colab": {
          "base_uri": "https://localhost:8080/",
          "height": 388
        },
        "id": "F9fmgp7x7-pg",
        "outputId": "8bde583f-35d8-4985-bbd3-6d0be9a6f9d6"
      },
      "execution_count": 39,
      "outputs": [
        {
          "output_type": "display_data",
          "data": {
            "text/plain": [
              "<Figure size 720x432 with 1 Axes>"
            ],
            "image/png": "[encoded data removed]"
          },
          "metadata": {
            "needs_background": "light"
          }
        }
      ]
    },
    {
      "cell_type": "code",
      "source": [
        "#Gráficos de dispersión\n",
        "\n",
        "#Escogemos dos variables que hayan tenido una alta correlación\n",
        "fig, ax = plt.subplots(figsize=(10,6))\n",
        "ax.scatter(df['Desplazamiento'], df['Peso_En_Libras'])\n",
        "ax.set_xlabel('Desplazamiento')\n",
        "ax.set_ylabel('Peso_En_Libras')\n",
        "plt.show()\n",
        "\n",
        "#Alta Correlación, sigue una tendencia"
      ],
      "metadata": {
        "colab": {
          "base_uri": "https://localhost:8080/",
          "height": 388
        },
        "id": "qSc2V1bo8FBA",
        "outputId": "ed8becca-5223-4726-c053-2915d18537b9"
      },
      "execution_count": 40,
      "outputs": [
        {
          "output_type": "display_data",
          "data": {
            "text/plain": [
              "<Figure size 720x432 with 1 Axes>"
            ],
            "image/png": "[encoded data removed]"
          },
          "metadata": {
            "needs_background": "light"
          }
        }
      ]
    },
    {
      "cell_type": "code",
      "source": [
        "#Gráficos de dispersión\n",
        "\n",
        "#Escogemos dos variables que hayan tenido una alta correlación\n",
        "fig, ax = plt.subplots(figsize=(10,6))\n",
        "ax.scatter(df['Desplazamiento'], df['Caballo_De_Fuerza'])\n",
        "ax.set_xlabel('Desplazamiento')\n",
        "ax.set_ylabel('Caballo_De_Fuerza')\n",
        "plt.show()\n",
        "\n",
        "#Alta Correlación, sigue una tendencia"
      ],
      "metadata": {
        "colab": {
          "base_uri": "https://localhost:8080/",
          "height": 388
        },
        "id": "m3KyD5qN8KDo",
        "outputId": "b72207ec-2f7b-4b3e-f30f-2d24bfb15f8f"
      },
      "execution_count": 41,
      "outputs": [
        {
          "output_type": "display_data",
          "data": {
            "text/plain": [
              "<Figure size 720x432 with 1 Axes>"
            ],
            "image/png": "[encoded data removed]"
          },
          "metadata": {
            "needs_background": "light"
          }
        }
      ]
    },
    {
      "cell_type": "code",
      "source": [],
      "metadata": {
        "id": "-51h3LuS8OXA"
      },
      "execution_count": null,
      "outputs": []
    }
  ]
}