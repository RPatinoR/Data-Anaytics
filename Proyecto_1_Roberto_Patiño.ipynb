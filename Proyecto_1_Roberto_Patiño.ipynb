{
  "nbformat": 4,
  "nbformat_minor": 0,
  "metadata": {
    "colab": {
      "name": "Proyecto 1 .Roberto Patiño",
      "provenance": [],
      "authorship_tag": "ABX9TyNgpwyqzOgrThHEDN3kT1LM",
      "include_colab_link": true
    },
    "kernelspec": {
      "name": "python3",
      "display_name": "Python 3"
    },
    "language_info": {
      "name": "python"
    }
  },
  "cells": [
    {
      "cell_type": "markdown",
      "metadata": {
        "id": "view-in-github",
        "colab_type": "text"
      },
      "source": [
        "<a href=\"https://colab.research.google.com/github/RPatinoR/Data1/blob/main/Proyecto_1_Roberto_Pati%C3%B1o.ipynb\" target=\"_parent\"><img src=\"https://colab.research.google.com/assets/colab-badge.svg\" alt=\"Open In Colab\"/></a>"
      ]
    },
    {
      "cell_type": "markdown",
      "source": [
        "# Ejercicio 1\n",
        "\n",
        "Escribir un programa que pregunte al usuario o genere las ventas\n",
        "de los últimos 5 días, y muestre por pantalla una serie (Dataframe)\n",
        "con los datos de las ventas por producto (opcional): Nro de\n",
        "unidades y precio unitario, indexada por los días, antes y después\n",
        "de aplicarles un descuento del 5%."
      ],
      "metadata": {
        "id": "5u6JMcskJE_A"
      }
    },
    {
      "cell_type": "code",
      "source": [
        "import pandas as pd        #Se importan pandas y numpy para poder hacer un array y despues un dataframe\n",
        "import numpy as np\n",
        "\n",
        "                              #generamos datos que nos sirvan para la actividad\n",
        "Precios = np.array([\n",
        "               [\"Platano\",\"01/06/2022\", 7, 20], \n",
        "               [\"Platano\",\"02/06/2022\", 5, 20],\n",
        "               [\"Platano\",\"03/06/2022\", 5, 20],\n",
        "               [\"Platano\",\"04/06/2022\", 13, 20],   \n",
        "               [\"Platano\",\"05/06/2022\", 10, 20],\n",
        "               [\"Manzana\",\"01/06/2022\", 8, 15], \n",
        "               [\"Manzana\",\"02/06/2022\", 15, 15],\n",
        "               [\"Manzana\",\"03/06/2022\", 20, 15],\n",
        "               [\"Manzana\",\"04/06/2022\", 7, 15],   \n",
        "               [\"Manzana\",\"05/06/2022\", 9, 15],    \n",
        "               [\"Naranja\",\"01/06/2022\", 7, 13],\n",
        "               [\"Naranja\",\"02/06/2022\", 4, 13],\n",
        "               [\"Naranja\",\"03/06/2022\", 6, 13],\n",
        "               [\"Naranja\",\"04/06/2022\", 8, 13],   \n",
        "               [\"Naranja\",\"05/06/2022\", 14, 13]\n",
        "               ])\n",
        "\n",
        "\n",
        "array_precios = pd.DataFrame(\n",
        "    data=Precios,\n",
        "    columns=[\"Producto\",\"Fecha\",\"Nro de Unidades\",\"Precio Unitario\"]\n",
        "    )\n",
        "                                                   #Se genera el dataframe definiendo las columnas y los datos que tomara\n",
        "\n",
        "por_fecha = array_precios.sort_values(\"Fecha\")     #Se ordena segun la fecha\n",
        "\n",
        "por_fecha['Precio Unitario'] = pd.to_numeric(por_fecha['Precio Unitario'])   #Se pasan los datos a numericos\n",
        "\n",
        "por_fecha['Descuento'] = por_fecha['Precio Unitario']*0.95    #Se genera la columna en la que se aplicara el descuento\n",
        "\n",
        "por_fecha.set_index('Fecha', inplace = True)       #Se indexa la fecha\n",
        "\n",
        "print (por_fecha)                                  #Imprimimos los datos"
      ],
      "metadata": {
        "colab": {
          "base_uri": "https://localhost:8080/"
        },
        "id": "C97DXcAsom_3",
        "outputId": "20f1acaf-0026-4b05-e8b5-a5d9a1bc8c18"
      },
      "execution_count": null,
      "outputs": [
        {
          "output_type": "stream",
          "name": "stdout",
          "text": [
            "           Producto Nro de Unidades  Precio Unitario  Descuento\n",
            "Fecha                                                          \n",
            "01/06/2022  Platano               7               20      19.00\n",
            "01/06/2022  Manzana               8               15      14.25\n",
            "01/06/2022  Naranja               7               13      12.35\n",
            "02/06/2022  Platano               5               20      19.00\n",
            "02/06/2022  Manzana              15               15      14.25\n",
            "02/06/2022  Naranja               4               13      12.35\n",
            "03/06/2022  Platano               5               20      19.00\n",
            "03/06/2022  Manzana              20               15      14.25\n",
            "03/06/2022  Naranja               6               13      12.35\n",
            "04/06/2022  Platano              13               20      19.00\n",
            "04/06/2022  Manzana               7               15      14.25\n",
            "04/06/2022  Naranja               8               13      12.35\n",
            "05/06/2022  Platano              10               20      19.00\n",
            "05/06/2022  Manzana               9               15      14.25\n",
            "05/06/2022  Naranja              14               13      12.35\n"
          ]
        }
      ]
    },
    {
      "cell_type": "markdown",
      "source": [
        "# Ejercicio 2 \n",
        "\n",
        "Escribir un programa que reciba un diccionario con los ingresos\n",
        "mensuales de los clientes de una empresa, y devuelva una serie\n",
        "con el ingreso mínimo, máximo y media."
      ],
      "metadata": {
        "id": "EEoRg07uJFj9"
      }
    },
    {
      "cell_type": "code",
      "execution_count": null,
      "metadata": {
        "id": "zcxTCT4iIiRL",
        "colab": {
          "base_uri": "https://localhost:8080/"
        },
        "outputId": "937d8b9d-e40e-4890-f1c0-5c50d105592a"
      },
      "outputs": [
        {
          "output_type": "stream",
          "name": "stdout",
          "text": [
            "Min      200.000000\n",
            "Max      550.000000\n",
            "Media    391.666667\n",
            "dtype: float64\n"
          ]
        }
      ],
      "source": [
        "import pandas as pd                        # Se importa pandas\n",
        "                                           # Se crea el diccionario con ingresos mensuales \n",
        "ingresos = {'Enero':500, 'Febrer':250, 'Marzo':400, \n",
        "            'Abril':550, 'Mayo': 550, 'Junio': 250, \n",
        "            'Julio': 300, 'Agosto': 500,'Septiembre': 200,\n",
        "            'Octubre': 500,'Noviembre': 450, 'Diciembre': 250}\n",
        "\n",
        "def estadistica_ingresos(ingresos):                               #Se piden los valores estadisticos de nuestros datos y se especifican\n",
        "    ingresos = pd.Series(ingresos)\n",
        "    estadisticos = pd.Series([ingresos.min(), ingresos.max(), ingresos.mean()], index=['Min', 'Max', 'Media'])\n",
        "    return estadisticos\n",
        "\n",
        "\n",
        "print(estadistica_ingresos(ingresos))    #Se imprimen los resultados"
      ]
    },
    {
      "cell_type": "markdown",
      "source": [
        "# Ejercicio 3\n",
        "Escribir programa que genere y muestre por pantalla un DataFrame\n",
        "con los datos de la siguiente tabla:\n",
        "\n",
        "Mes Ventas Gastos\n",
        "\n",
        "Enero 30500 22000\n",
        "\n",
        "Febrero 35600 23450\n",
        "\n",
        "Marzo 28300 18100\n",
        "\n",
        "Abril 33900 35700\n",
        "\n",
        "Mayo 42500 32450\n",
        "\n",
        "A continuación, generar nuevas columna:\n",
        "\n",
        "1. Columna 1 = Gasto/Ventas*100.\n",
        "2. Columna 2 = Si Ventas&gt;= 30000, imprimir “Meta Superada”,\n",
        "caso contrario imprimir “Meta no Superada”.\n",
        "3. Columna 3 = Si Gasto&gt;Ventas, calcular el sobre gasto.\n",
        "4. Obtener el total de las ventas de los últimos 3 meses\n",
        "5. Obtener el total de gastos de febrero a abril\n",
        "\n"
      ],
      "metadata": {
        "id": "DsMJDvQ_KMiI"
      }
    },
    {
      "cell_type": "code",
      "source": [
        "import pandas as pd                    #Se importa pandas\n",
        "\n",
        "df = pd.DataFrame()                    #Se agregan manualmente los datos \n",
        "meses = [\"Enero\", \"febrero\", \"Marzo\", \"Abril\", \"Mayo\"]\n",
        "ventas = [30500, 35600, 28300, 33900, 42500]\n",
        "gastos = [22000, 23450, 18100, 35700, 32450]\n",
        "   \n",
        "df[\"Mes\"] = meses                       #Se le asignan los datos a las columnas\n",
        "df = df.assign(Ventas=ventas)\n",
        "df = df.assign(Gastos=gastos)\n",
        "\n",
        "df[\"Ventas\"] = pd.to_numeric(df[\"Ventas\"])        #Se agregan las columnas\n",
        "df[\"Gastos\"] = pd.to_numeric(df[\"Gastos\"])\n",
        "\n",
        "df['Gast/Venta'] = df[\"Gastos\"]/df[\"Ventas\"]*100 #Columna nueva Gasto/Venta*100\n",
        "\n",
        "df[\"Metas\"] = df['Ventas'].apply(lambda x: 'Meta Superada' if x >= 30000 else 'Meta no Superada') #Columna nueva Meta Superada\n",
        "\n",
        "df.loc[df['Gastos'] > df['Ventas'], 'Sobre Gasto'] = df['Gastos'] - df['Ventas'] #Columna Sobre Gastos\n",
        "\n",
        "print(df)"
      ],
      "metadata": {
        "id": "a2PKCGT4Ko__",
        "colab": {
          "base_uri": "https://localhost:8080/"
        },
        "outputId": "b692fcbe-e2ef-461b-a9f4-9c58608cf0c3"
      },
      "execution_count": 48,
      "outputs": [
        {
          "output_type": "stream",
          "name": "stdout",
          "text": [
            "       Mes  Ventas  Gastos  Gast/Venta             Metas  Sobre Gasto\n",
            "0    Enero   30500   22000   72.131148     Meta Superada          NaN\n",
            "1  febrero   35600   23450   65.870787     Meta Superada          NaN\n",
            "2    Marzo   28300   18100   63.957597  Meta no Superada          NaN\n",
            "3    Abril   33900   35700  105.309735     Meta Superada       1800.0\n",
            "4     Mayo   42500   32450   76.352941     Meta Superada          NaN\n"
          ]
        }
      ]
    },
    {
      "cell_type": "code",
      "source": [
        "ultimos_3_meses = df['Ventas'].tail(3).sum() #Suma de los datos de las ultimas 3 filas de Ventas\n",
        "\n",
        "print(ultimos_3_meses)"
      ],
      "metadata": {
        "colab": {
          "base_uri": "https://localhost:8080/"
        },
        "id": "Nxg5HGM44u5C",
        "outputId": "9a10beec-f92a-4a69-fe6f-2efd47bdfe33"
      },
      "execution_count": 46,
      "outputs": [
        {
          "output_type": "stream",
          "name": "stdout",
          "text": [
            "104700\n"
          ]
        }
      ]
    },
    {
      "cell_type": "code",
      "source": [
        "feb_abr_df = df[1:4] \n",
        "\n",
        "gastos_feb_abr = feb_abr_df['Gastos'].sum() #Suma de los datos de las filas 1 a la 4 (Feb - Abr)\n",
        "\n",
        "print(gastos_feb_abr)"
      ],
      "metadata": {
        "colab": {
          "base_uri": "https://localhost:8080/"
        },
        "id": "7RifpC0s4ywL",
        "outputId": "33cd88d7-ecef-40f2-fc0d-a2928beb1762"
      },
      "execution_count": 45,
      "outputs": [
        {
          "output_type": "stream",
          "name": "stdout",
          "text": [
            "77250\n"
          ]
        }
      ]
    },
    {
      "cell_type": "markdown",
      "source": [
        "# Ejercicio 4\n",
        "\n",
        "Con el siguiente fichero Data - Riesgos.csv contiene información\n",
        "de riesgo de clientes de un banco. Escribir un programa con los\n",
        "siguientes requisitos:\n",
        "1. Generar un DataFrame con los datos del fichero.\n",
        "2. Mostrar por pantalla las dimensiones del DataFrame, el\n",
        "número de datos que contiene, los nombres de sus columnas\n",
        "y filas, los tipos de datos de las columnas, mostrar las 10\n",
        "primeras filas y las 10 últimas filas, verificar si tiene datos\n",
        "perdidos/nulos.\n",
        "3. Extraer las 100 primeras filas y almacenarlas en un\n",
        "contenedor."
      ],
      "metadata": {
        "id": "fy8Gkr58KNDO"
      }
    },
    {
      "cell_type": "code",
      "source": [
        "import pandas as pd\n",
        "\n",
        "df = pd.read_csv(\"https://raw.githubusercontent.com/RPatinoR/Data1/main/Data%20-%20Riesgos.csv\")   #Leemos el archivo en csv que dejamos en github\n",
        "\n",
        "df.shape #Filas por columnas \n",
        "\n",
        "df.size  #Numero de elementos\n",
        "\n",
        "df.columns #Todas las columnas (Nombres)\n",
        "\n",
        "df.dtypes #Tipo de datos\n",
        "\n",
        "df.head(10) #Primeras 10 filas\n",
        "\n",
        "df.tail(10) #Ultimas 10 filas\n",
        "                                                  #Se imprimen los valores deseados\n",
        "print(\"Dimensiones del DataFrame:\", df.shape)\n",
        "print(\"Numero de Datos del DataFrame:\", df.size)\n",
        "print(\"Nombres de las Columnas del DataFrame:\", df.columns)\n",
        "print(\"Tipos de Datos del DataFrame:\", df.dtypes)\n",
        "print(\"Primeras 10 Filas:\", df.head(10))\n",
        "print(\"Ultimas 10 Filas:\", df.tail(10))"
      ],
      "metadata": {
        "id": "ysGqlW05KqHs",
        "colab": {
          "base_uri": "https://localhost:8080/"
        },
        "outputId": "0df7deb0-a2cc-464e-c075-bf58752e3c76"
      },
      "execution_count": 50,
      "outputs": [
        {
          "output_type": "stream",
          "name": "stdout",
          "text": [
            "Dimensiones del DataFrame: (4500, 10)\n",
            "Numero de Datos del DataFrame: 45000\n",
            "Nombres de las Columnas del DataFrame: Index(['ID', 'edad', 'meses', 'max_ant', 'ingreso', 'score', 'tipo_vivienda',\n",
            "       'zona', 'nivel', 'riesgo'],\n",
            "      dtype='object')\n",
            "Tipos de Datos del DataFrame: ID                 int64\n",
            "edad             float64\n",
            "meses            float64\n",
            "max_ant          float64\n",
            "ingreso          float64\n",
            "score            float64\n",
            "tipo_vivienda      int64\n",
            "zona             float64\n",
            "nivel              int64\n",
            "riesgo             int64\n",
            "dtype: object\n",
            "Primeras 10 Filas:      ID  edad  meses  max_ant  ingreso  score  tipo_vivienda  zona  nivel  \\\n",
            "0  2208  33.0  128.0      6.0   3230.0  192.0              2   3.0      2   \n",
            "1  2211  32.0  185.0      7.0   2930.0  217.0              2   1.0      5   \n",
            "2  2212  28.0    NaN      7.0   1883.7  202.0              2   1.0      2   \n",
            "3  2216  56.0  200.0      0.0    850.0  194.0              2   1.0      5   \n",
            "4  2218  32.0  131.0     65.0   3200.0  200.0              2   1.0      2   \n",
            "5  2219  34.0  145.0      6.0   7000.0  196.0              2   5.0      2   \n",
            "6  2226   NaN  114.0      0.0   2171.5  178.0              2   2.0      1   \n",
            "7  2227  27.0  116.0      0.0    800.0  169.0              2   1.0      5   \n",
            "8  2228  26.0  182.0      6.0   3150.0  190.0              4   3.0      5   \n",
            "9  2230  25.0  154.0      1.0   2600.0  189.0              2   1.0      2   \n",
            "\n",
            "   riesgo  \n",
            "0       1  \n",
            "1       1  \n",
            "2       1  \n",
            "3       1  \n",
            "4       1  \n",
            "5       1  \n",
            "6       1  \n",
            "7       1  \n",
            "8       1  \n",
            "9       1  \n",
            "Ultimas 10 Filas:         ID  edad  meses  max_ant   ingreso  score  tipo_vivienda  zona  nivel  \\\n",
            "4490  1486  59.0  288.0      0.0  30000.00  207.0              2   1.0      2   \n",
            "4491  1487  55.0  294.0     57.0   9300.00  238.0              4   1.0      2   \n",
            "4492  1488  53.0  148.0    106.0  30000.00  219.0              4   1.0      2   \n",
            "4493  1491  29.0  198.0     94.0   5250.00  214.0              2   1.0      2   \n",
            "4494  1493  32.0  195.0     41.0   7500.00  219.0              2   1.0      2   \n",
            "4495  1494  54.0  510.0     87.0  24000.00  214.0              2   1.0      2   \n",
            "4496  1495  63.0  305.0     99.0   9880.73  219.0              2   5.0      2   \n",
            "4497  1496  48.0  194.0    124.0  23000.00  224.0              4   1.0      2   \n",
            "4498  1497  39.0  245.0    121.0  12450.00  240.0              4   5.0      2   \n",
            "4499  1499  65.0  674.0     38.0  20000.00  238.0              4   5.0      2   \n",
            "\n",
            "      riesgo  \n",
            "4490       0  \n",
            "4491       0  \n",
            "4492       0  \n",
            "4493       0  \n",
            "4494       0  \n",
            "4495       0  \n",
            "4496       0  \n",
            "4497       0  \n",
            "4498       0  \n",
            "4499       0  \n"
          ]
        }
      ]
    },
    {
      "cell_type": "code",
      "source": [
        "df.isnull().sum() #Datos perdidos por columna"
      ],
      "metadata": {
        "colab": {
          "base_uri": "https://localhost:8080/"
        },
        "id": "CbGX8_noBKEy",
        "outputId": "3f871a53-a8a1-4d53-fbb3-836efdaa50aa"
      },
      "execution_count": 51,
      "outputs": [
        {
          "output_type": "execute_result",
          "data": {
            "text/plain": [
              "ID                0\n",
              "edad             13\n",
              "meses             6\n",
              "max_ant           4\n",
              "ingreso           5\n",
              "score             5\n",
              "tipo_vivienda     0\n",
              "zona              6\n",
              "nivel             0\n",
              "riesgo            0\n",
              "dtype: int64"
            ]
          },
          "metadata": {},
          "execution_count": 51
        }
      ]
    },
    {
      "cell_type": "code",
      "source": [
        "Primeros_100 = df.head(100)\n",
        "\n",
        "print(Primeros_100)"
      ],
      "metadata": {
        "colab": {
          "base_uri": "https://localhost:8080/"
        },
        "id": "d3BGjzgQ5Sjt",
        "outputId": "a1c8548b-5519-4b56-a600-33cd964166b1"
      },
      "execution_count": 52,
      "outputs": [
        {
          "output_type": "stream",
          "name": "stdout",
          "text": [
            "      ID  edad  meses  max_ant  ingreso  score  tipo_vivienda  zona  nivel  \\\n",
            "0   2208  33.0  128.0      6.0  3230.00  192.0              2   3.0      2   \n",
            "1   2211  32.0  185.0      7.0  2930.00  217.0              2   1.0      5   \n",
            "2   2212  28.0    NaN      7.0  1883.70  202.0              2   1.0      2   \n",
            "3   2216  56.0  200.0      0.0   850.00  194.0              2   1.0      5   \n",
            "4   2218  32.0  131.0     65.0  3200.00  200.0              2   1.0      2   \n",
            "..   ...   ...    ...      ...      ...    ...            ...   ...    ...   \n",
            "95  2387  41.0  141.0      0.0  3420.36  214.0              4   2.0      1   \n",
            "96  2389  29.0  159.0     17.0  1157.06  163.0              2   4.0      2   \n",
            "97  2391  27.0  122.0      NaN  2000.00  188.0              2   1.0      2   \n",
            "98  2392  35.0  111.0      0.0   812.53  177.0              2   1.0      5   \n",
            "99  2394  28.0  137.0      0.0  2000.00  175.0              3   1.0      5   \n",
            "\n",
            "    riesgo  \n",
            "0        1  \n",
            "1        1  \n",
            "2        1  \n",
            "3        1  \n",
            "4        1  \n",
            "..     ...  \n",
            "95       1  \n",
            "96       1  \n",
            "97       1  \n",
            "98       1  \n",
            "99       1  \n",
            "\n",
            "[100 rows x 10 columns]\n"
          ]
        }
      ]
    }
  ]
}